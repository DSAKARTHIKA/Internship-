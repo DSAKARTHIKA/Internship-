{
 "cells": [
  {
   "cell_type": "code",
   "execution_count": 1,
   "metadata": {
    "id": "Y4uDAPgHEn-s"
   },
   "outputs": [],
   "source": [
    "import pandas as pd\n",
    "import numpy as np\n",
    "import matplotlib.pyplot as plt\n",
    "import seaborn as sns"
   ]
  },
  {
   "cell_type": "code",
   "execution_count": 2,
   "metadata": {
    "id": "nmBhVbwMF6XI"
   },
   "outputs": [],
   "source": [
    "\n",
    "data = pd.read_csv(r\"C:\\Users\\user\\Downloads\\DRUG BATCH SIDE EFFECTS DATASET 0.1.csv\")\n"
   ]
  },
  {
   "cell_type": "code",
   "execution_count": 3,
   "metadata": {
    "colab": {
     "base_uri": "https://localhost:8080/",
     "height": 424
    },
    "id": "jluEmhyzGiY1",
    "outputId": "34336a81-ecc0-4ab6-c640-28cd21b827dd"
   },
   "outputs": [
    {
     "data": {
      "text/html": [
       "<div>\n",
       "<style scoped>\n",
       "    .dataframe tbody tr th:only-of-type {\n",
       "        vertical-align: middle;\n",
       "    }\n",
       "\n",
       "    .dataframe tbody tr th {\n",
       "        vertical-align: top;\n",
       "    }\n",
       "\n",
       "    .dataframe thead th {\n",
       "        text-align: right;\n",
       "    }\n",
       "</style>\n",
       "<table border=\"1\" class=\"dataframe\">\n",
       "  <thead>\n",
       "    <tr style=\"text-align: right;\">\n",
       "      <th></th>\n",
       "      <th>NAME</th>\n",
       "      <th>GENDER</th>\n",
       "      <th>DRUG NAME</th>\n",
       "      <th>AGE</th>\n",
       "      <th>RACE</th>\n",
       "      <th>SIDE EFFECTS</th>\n",
       "    </tr>\n",
       "  </thead>\n",
       "  <tbody>\n",
       "    <tr>\n",
       "      <th>0</th>\n",
       "      <td>Aaban</td>\n",
       "      <td>M</td>\n",
       "      <td>topamax</td>\n",
       "      <td>41.0</td>\n",
       "      <td>White</td>\n",
       "      <td>Mild Side Effects</td>\n",
       "    </tr>\n",
       "    <tr>\n",
       "      <th>1</th>\n",
       "      <td>Aaban</td>\n",
       "      <td>M</td>\n",
       "      <td>zocor</td>\n",
       "      <td>53.0</td>\n",
       "      <td>Hispanic, White</td>\n",
       "      <td>Extremely Severe Side Effects</td>\n",
       "    </tr>\n",
       "    <tr>\n",
       "      <th>2</th>\n",
       "      <td>Aabha</td>\n",
       "      <td>F</td>\n",
       "      <td>tazorac</td>\n",
       "      <td>31.0</td>\n",
       "      <td>White</td>\n",
       "      <td>Mild Side Effects</td>\n",
       "    </tr>\n",
       "    <tr>\n",
       "      <th>3</th>\n",
       "      <td>Aabha</td>\n",
       "      <td>F</td>\n",
       "      <td>voltaren</td>\n",
       "      <td>44.0</td>\n",
       "      <td>White</td>\n",
       "      <td>Severe Side Effects</td>\n",
       "    </tr>\n",
       "    <tr>\n",
       "      <th>4</th>\n",
       "      <td>Aabid</td>\n",
       "      <td>M</td>\n",
       "      <td>tramadol</td>\n",
       "      <td>24.0</td>\n",
       "      <td>White</td>\n",
       "      <td>No Side Effects</td>\n",
       "    </tr>\n",
       "    <tr>\n",
       "      <th>...</th>\n",
       "      <td>...</td>\n",
       "      <td>...</td>\n",
       "      <td>...</td>\n",
       "      <td>...</td>\n",
       "      <td>...</td>\n",
       "      <td>...</td>\n",
       "    </tr>\n",
       "    <tr>\n",
       "      <th>399995</th>\n",
       "      <td>TRUE</td>\n",
       "      <td>M</td>\n",
       "      <td>lamisil</td>\n",
       "      <td>50.0</td>\n",
       "      <td>White</td>\n",
       "      <td>Severe Side Effects</td>\n",
       "    </tr>\n",
       "    <tr>\n",
       "      <th>399996</th>\n",
       "      <td>TRUE</td>\n",
       "      <td>M</td>\n",
       "      <td>klaron</td>\n",
       "      <td>55.0</td>\n",
       "      <td>Hispanic, White</td>\n",
       "      <td>No Side Effects</td>\n",
       "    </tr>\n",
       "    <tr>\n",
       "      <th>399997</th>\n",
       "      <td>TRUE</td>\n",
       "      <td>M</td>\n",
       "      <td>celexa</td>\n",
       "      <td>57.0</td>\n",
       "      <td>Other</td>\n",
       "      <td>Severe Side Effects</td>\n",
       "    </tr>\n",
       "    <tr>\n",
       "      <th>399998</th>\n",
       "      <td>TRUE</td>\n",
       "      <td>F</td>\n",
       "      <td>zoloft</td>\n",
       "      <td>59.0</td>\n",
       "      <td>White</td>\n",
       "      <td>No Side Effects</td>\n",
       "    </tr>\n",
       "    <tr>\n",
       "      <th>399999</th>\n",
       "      <td>TRUE</td>\n",
       "      <td>M</td>\n",
       "      <td>prilosec</td>\n",
       "      <td>65.0</td>\n",
       "      <td>White</td>\n",
       "      <td>Mild Side Effects</td>\n",
       "    </tr>\n",
       "  </tbody>\n",
       "</table>\n",
       "<p>400000 rows × 6 columns</p>\n",
       "</div>"
      ],
      "text/plain": [
       "         NAME GENDER DRUG NAME   AGE             RACE  \\\n",
       "0       Aaban      M   topamax  41.0            White   \n",
       "1       Aaban      M     zocor  53.0  Hispanic, White   \n",
       "2       Aabha      F   tazorac  31.0            White   \n",
       "3       Aabha      F  voltaren  44.0            White   \n",
       "4       Aabid      M  tramadol  24.0            White   \n",
       "...       ...    ...       ...   ...              ...   \n",
       "399995   TRUE      M   lamisil  50.0            White   \n",
       "399996   TRUE      M    klaron  55.0  Hispanic, White   \n",
       "399997   TRUE      M    celexa  57.0            Other   \n",
       "399998   TRUE      F    zoloft  59.0            White   \n",
       "399999   TRUE      M  prilosec  65.0            White   \n",
       "\n",
       "                         SIDE EFFECTS  \n",
       "0                   Mild Side Effects  \n",
       "1       Extremely Severe Side Effects  \n",
       "2                   Mild Side Effects  \n",
       "3                 Severe Side Effects  \n",
       "4                     No Side Effects  \n",
       "...                               ...  \n",
       "399995            Severe Side Effects  \n",
       "399996                No Side Effects  \n",
       "399997            Severe Side Effects  \n",
       "399998                No Side Effects  \n",
       "399999              Mild Side Effects  \n",
       "\n",
       "[400000 rows x 6 columns]"
      ]
     },
     "execution_count": 3,
     "metadata": {},
     "output_type": "execute_result"
    }
   ],
   "source": [
    "data"
   ]
  },
  {
   "cell_type": "code",
   "execution_count": 4,
   "metadata": {
    "colab": {
     "base_uri": "https://localhost:8080/",
     "height": 206
    },
    "id": "r0plscg-GmVG",
    "outputId": "3160aec6-f84a-4e9c-c9aa-5757d9fe4706"
   },
   "outputs": [
    {
     "data": {
      "text/html": [
       "<div>\n",
       "<style scoped>\n",
       "    .dataframe tbody tr th:only-of-type {\n",
       "        vertical-align: middle;\n",
       "    }\n",
       "\n",
       "    .dataframe tbody tr th {\n",
       "        vertical-align: top;\n",
       "    }\n",
       "\n",
       "    .dataframe thead th {\n",
       "        text-align: right;\n",
       "    }\n",
       "</style>\n",
       "<table border=\"1\" class=\"dataframe\">\n",
       "  <thead>\n",
       "    <tr style=\"text-align: right;\">\n",
       "      <th></th>\n",
       "      <th>NAME</th>\n",
       "      <th>GENDER</th>\n",
       "      <th>DRUG NAME</th>\n",
       "      <th>AGE</th>\n",
       "      <th>RACE</th>\n",
       "      <th>SIDE EFFECTS</th>\n",
       "    </tr>\n",
       "  </thead>\n",
       "  <tbody>\n",
       "    <tr>\n",
       "      <th>0</th>\n",
       "      <td>Aaban</td>\n",
       "      <td>M</td>\n",
       "      <td>topamax</td>\n",
       "      <td>41.0</td>\n",
       "      <td>White</td>\n",
       "      <td>Mild Side Effects</td>\n",
       "    </tr>\n",
       "    <tr>\n",
       "      <th>1</th>\n",
       "      <td>Aaban</td>\n",
       "      <td>M</td>\n",
       "      <td>zocor</td>\n",
       "      <td>53.0</td>\n",
       "      <td>Hispanic, White</td>\n",
       "      <td>Extremely Severe Side Effects</td>\n",
       "    </tr>\n",
       "    <tr>\n",
       "      <th>2</th>\n",
       "      <td>Aabha</td>\n",
       "      <td>F</td>\n",
       "      <td>tazorac</td>\n",
       "      <td>31.0</td>\n",
       "      <td>White</td>\n",
       "      <td>Mild Side Effects</td>\n",
       "    </tr>\n",
       "    <tr>\n",
       "      <th>3</th>\n",
       "      <td>Aabha</td>\n",
       "      <td>F</td>\n",
       "      <td>voltaren</td>\n",
       "      <td>44.0</td>\n",
       "      <td>White</td>\n",
       "      <td>Severe Side Effects</td>\n",
       "    </tr>\n",
       "    <tr>\n",
       "      <th>4</th>\n",
       "      <td>Aabid</td>\n",
       "      <td>M</td>\n",
       "      <td>tramadol</td>\n",
       "      <td>24.0</td>\n",
       "      <td>White</td>\n",
       "      <td>No Side Effects</td>\n",
       "    </tr>\n",
       "  </tbody>\n",
       "</table>\n",
       "</div>"
      ],
      "text/plain": [
       "    NAME GENDER DRUG NAME   AGE             RACE  \\\n",
       "0  Aaban      M   topamax  41.0            White   \n",
       "1  Aaban      M     zocor  53.0  Hispanic, White   \n",
       "2  Aabha      F   tazorac  31.0            White   \n",
       "3  Aabha      F  voltaren  44.0            White   \n",
       "4  Aabid      M  tramadol  24.0            White   \n",
       "\n",
       "                    SIDE EFFECTS  \n",
       "0              Mild Side Effects  \n",
       "1  Extremely Severe Side Effects  \n",
       "2              Mild Side Effects  \n",
       "3            Severe Side Effects  \n",
       "4                No Side Effects  "
      ]
     },
     "execution_count": 4,
     "metadata": {},
     "output_type": "execute_result"
    }
   ],
   "source": [
    "data.head()"
   ]
  },
  {
   "cell_type": "code",
   "execution_count": 5,
   "metadata": {
    "colab": {
     "base_uri": "https://localhost:8080/"
    },
    "id": "0BuOPdngGyhT",
    "outputId": "b1b95d94-e5ee-4b2d-ae3a-16b41b0aeb50"
   },
   "outputs": [
    {
     "data": {
      "text/plain": [
       "(400000, 6)"
      ]
     },
     "execution_count": 5,
     "metadata": {},
     "output_type": "execute_result"
    }
   ],
   "source": [
    "data.shape"
   ]
  },
  {
   "cell_type": "code",
   "execution_count": 6,
   "metadata": {},
   "outputs": [],
   "source": [
    "data_true = data[data['NAME'] == 'TRUE']\n"
   ]
  },
  {
   "cell_type": "code",
   "execution_count": 7,
   "metadata": {},
   "outputs": [
    {
     "data": {
      "text/html": [
       "<div>\n",
       "<style scoped>\n",
       "    .dataframe tbody tr th:only-of-type {\n",
       "        vertical-align: middle;\n",
       "    }\n",
       "\n",
       "    .dataframe tbody tr th {\n",
       "        vertical-align: top;\n",
       "    }\n",
       "\n",
       "    .dataframe thead th {\n",
       "        text-align: right;\n",
       "    }\n",
       "</style>\n",
       "<table border=\"1\" class=\"dataframe\">\n",
       "  <thead>\n",
       "    <tr style=\"text-align: right;\">\n",
       "      <th></th>\n",
       "      <th>NAME</th>\n",
       "      <th>GENDER</th>\n",
       "      <th>DRUG NAME</th>\n",
       "      <th>AGE</th>\n",
       "      <th>RACE</th>\n",
       "      <th>SIDE EFFECTS</th>\n",
       "    </tr>\n",
       "  </thead>\n",
       "  <tbody>\n",
       "    <tr>\n",
       "      <th>399980</th>\n",
       "      <td>TRUE</td>\n",
       "      <td>F</td>\n",
       "      <td>adipex-p</td>\n",
       "      <td>15.0</td>\n",
       "      <td>White</td>\n",
       "      <td>Mild Side Effects</td>\n",
       "    </tr>\n",
       "    <tr>\n",
       "      <th>399981</th>\n",
       "      <td>TRUE</td>\n",
       "      <td>F</td>\n",
       "      <td>biaxin</td>\n",
       "      <td>23.0</td>\n",
       "      <td>White</td>\n",
       "      <td>Severe Side Effects</td>\n",
       "    </tr>\n",
       "    <tr>\n",
       "      <th>399982</th>\n",
       "      <td>TRUE</td>\n",
       "      <td>F</td>\n",
       "      <td>pravachol</td>\n",
       "      <td>24.0</td>\n",
       "      <td>White</td>\n",
       "      <td>No Side Effects</td>\n",
       "    </tr>\n",
       "    <tr>\n",
       "      <th>399983</th>\n",
       "      <td>TRUE</td>\n",
       "      <td>F</td>\n",
       "      <td>retin-a</td>\n",
       "      <td>24.0</td>\n",
       "      <td>White</td>\n",
       "      <td>Severe Side Effects</td>\n",
       "    </tr>\n",
       "    <tr>\n",
       "      <th>399984</th>\n",
       "      <td>TRUE</td>\n",
       "      <td>M</td>\n",
       "      <td>topamax</td>\n",
       "      <td>25.0</td>\n",
       "      <td>White</td>\n",
       "      <td>Mild Side Effects</td>\n",
       "    </tr>\n",
       "    <tr>\n",
       "      <th>399985</th>\n",
       "      <td>TRUE</td>\n",
       "      <td>F</td>\n",
       "      <td>yasmin</td>\n",
       "      <td>29.0</td>\n",
       "      <td>White</td>\n",
       "      <td>Mild Side Effects</td>\n",
       "    </tr>\n",
       "    <tr>\n",
       "      <th>399986</th>\n",
       "      <td>TRUE</td>\n",
       "      <td>M</td>\n",
       "      <td>flexeril</td>\n",
       "      <td>31.0</td>\n",
       "      <td>White</td>\n",
       "      <td>Moderate Side Effects</td>\n",
       "    </tr>\n",
       "    <tr>\n",
       "      <th>399987</th>\n",
       "      <td>TRUE</td>\n",
       "      <td>M</td>\n",
       "      <td>methotrexate</td>\n",
       "      <td>34.0</td>\n",
       "      <td>White</td>\n",
       "      <td>Mild Side Effects</td>\n",
       "    </tr>\n",
       "    <tr>\n",
       "      <th>399988</th>\n",
       "      <td>TRUE</td>\n",
       "      <td>F</td>\n",
       "      <td>minoxidil</td>\n",
       "      <td>36.0</td>\n",
       "      <td>White</td>\n",
       "      <td>Mild Side Effects</td>\n",
       "    </tr>\n",
       "    <tr>\n",
       "      <th>399989</th>\n",
       "      <td>TRUE</td>\n",
       "      <td>M</td>\n",
       "      <td>paxil</td>\n",
       "      <td>37.0</td>\n",
       "      <td>White</td>\n",
       "      <td>Mild Side Effects</td>\n",
       "    </tr>\n",
       "    <tr>\n",
       "      <th>399990</th>\n",
       "      <td>TRUE</td>\n",
       "      <td>M</td>\n",
       "      <td>paxil</td>\n",
       "      <td>37.0</td>\n",
       "      <td>White</td>\n",
       "      <td>Mild Side Effects</td>\n",
       "    </tr>\n",
       "    <tr>\n",
       "      <th>399991</th>\n",
       "      <td>TRUE</td>\n",
       "      <td>M</td>\n",
       "      <td>xanax-xr</td>\n",
       "      <td>43.0</td>\n",
       "      <td>White</td>\n",
       "      <td>Mild Side Effects</td>\n",
       "    </tr>\n",
       "    <tr>\n",
       "      <th>399992</th>\n",
       "      <td>TRUE</td>\n",
       "      <td>M</td>\n",
       "      <td>naltrexone</td>\n",
       "      <td>45.0</td>\n",
       "      <td>White</td>\n",
       "      <td>No Side Effects</td>\n",
       "    </tr>\n",
       "    <tr>\n",
       "      <th>399993</th>\n",
       "      <td>TRUE</td>\n",
       "      <td>M</td>\n",
       "      <td>restoril</td>\n",
       "      <td>48.0</td>\n",
       "      <td>White</td>\n",
       "      <td>Mild Side Effects</td>\n",
       "    </tr>\n",
       "    <tr>\n",
       "      <th>399994</th>\n",
       "      <td>TRUE</td>\n",
       "      <td>M</td>\n",
       "      <td>atarax</td>\n",
       "      <td>48.0</td>\n",
       "      <td>Hispanic, White</td>\n",
       "      <td>No Side Effects</td>\n",
       "    </tr>\n",
       "    <tr>\n",
       "      <th>399995</th>\n",
       "      <td>TRUE</td>\n",
       "      <td>M</td>\n",
       "      <td>lamisil</td>\n",
       "      <td>50.0</td>\n",
       "      <td>White</td>\n",
       "      <td>Severe Side Effects</td>\n",
       "    </tr>\n",
       "    <tr>\n",
       "      <th>399996</th>\n",
       "      <td>TRUE</td>\n",
       "      <td>M</td>\n",
       "      <td>klaron</td>\n",
       "      <td>55.0</td>\n",
       "      <td>Hispanic, White</td>\n",
       "      <td>No Side Effects</td>\n",
       "    </tr>\n",
       "    <tr>\n",
       "      <th>399997</th>\n",
       "      <td>TRUE</td>\n",
       "      <td>M</td>\n",
       "      <td>celexa</td>\n",
       "      <td>57.0</td>\n",
       "      <td>Other</td>\n",
       "      <td>Severe Side Effects</td>\n",
       "    </tr>\n",
       "    <tr>\n",
       "      <th>399998</th>\n",
       "      <td>TRUE</td>\n",
       "      <td>F</td>\n",
       "      <td>zoloft</td>\n",
       "      <td>59.0</td>\n",
       "      <td>White</td>\n",
       "      <td>No Side Effects</td>\n",
       "    </tr>\n",
       "    <tr>\n",
       "      <th>399999</th>\n",
       "      <td>TRUE</td>\n",
       "      <td>M</td>\n",
       "      <td>prilosec</td>\n",
       "      <td>65.0</td>\n",
       "      <td>White</td>\n",
       "      <td>Mild Side Effects</td>\n",
       "    </tr>\n",
       "  </tbody>\n",
       "</table>\n",
       "</div>"
      ],
      "text/plain": [
       "        NAME GENDER     DRUG NAME   AGE             RACE  \\\n",
       "399980  TRUE      F      adipex-p  15.0            White   \n",
       "399981  TRUE      F        biaxin  23.0            White   \n",
       "399982  TRUE      F     pravachol  24.0            White   \n",
       "399983  TRUE      F       retin-a  24.0            White   \n",
       "399984  TRUE      M       topamax  25.0            White   \n",
       "399985  TRUE      F        yasmin  29.0            White   \n",
       "399986  TRUE      M      flexeril  31.0            White   \n",
       "399987  TRUE      M  methotrexate  34.0            White   \n",
       "399988  TRUE      F     minoxidil  36.0            White   \n",
       "399989  TRUE      M         paxil  37.0            White   \n",
       "399990  TRUE      M         paxil  37.0            White   \n",
       "399991  TRUE      M      xanax-xr  43.0            White   \n",
       "399992  TRUE      M    naltrexone  45.0            White   \n",
       "399993  TRUE      M      restoril  48.0            White   \n",
       "399994  TRUE      M        atarax  48.0  Hispanic, White   \n",
       "399995  TRUE      M       lamisil  50.0            White   \n",
       "399996  TRUE      M        klaron  55.0  Hispanic, White   \n",
       "399997  TRUE      M        celexa  57.0            Other   \n",
       "399998  TRUE      F        zoloft  59.0            White   \n",
       "399999  TRUE      M      prilosec  65.0            White   \n",
       "\n",
       "                 SIDE EFFECTS  \n",
       "399980      Mild Side Effects  \n",
       "399981    Severe Side Effects  \n",
       "399982        No Side Effects  \n",
       "399983    Severe Side Effects  \n",
       "399984      Mild Side Effects  \n",
       "399985      Mild Side Effects  \n",
       "399986  Moderate Side Effects  \n",
       "399987      Mild Side Effects  \n",
       "399988      Mild Side Effects  \n",
       "399989      Mild Side Effects  \n",
       "399990      Mild Side Effects  \n",
       "399991      Mild Side Effects  \n",
       "399992        No Side Effects  \n",
       "399993      Mild Side Effects  \n",
       "399994        No Side Effects  \n",
       "399995    Severe Side Effects  \n",
       "399996        No Side Effects  \n",
       "399997    Severe Side Effects  \n",
       "399998        No Side Effects  \n",
       "399999      Mild Side Effects  "
      ]
     },
     "execution_count": 7,
     "metadata": {},
     "output_type": "execute_result"
    }
   ],
   "source": [
    "data_true "
   ]
  },
  {
   "cell_type": "code",
   "execution_count": 8,
   "metadata": {},
   "outputs": [
    {
     "data": {
      "text/plain": [
       "(20, 6)"
      ]
     },
     "execution_count": 8,
     "metadata": {},
     "output_type": "execute_result"
    }
   ],
   "source": [
    "data_true.shape"
   ]
  },
  {
   "cell_type": "code",
   "execution_count": 9,
   "metadata": {
    "colab": {
     "base_uri": "https://localhost:8080/"
    },
    "id": "9XoZzGsXG3C3",
    "outputId": "a4fd1d57-7bfc-4653-cf07-920ba92511b8"
   },
   "outputs": [
    {
     "data": {
      "text/plain": [
       "Index(['NAME', 'GENDER', 'DRUG NAME', 'AGE', 'RACE', 'SIDE EFFECTS'], dtype='object')"
      ]
     },
     "execution_count": 9,
     "metadata": {},
     "output_type": "execute_result"
    }
   ],
   "source": [
    "data.columns"
   ]
  },
  {
   "cell_type": "code",
   "execution_count": 10,
   "metadata": {
    "colab": {
     "base_uri": "https://localhost:8080/"
    },
    "id": "yIdW3rZIG3X8",
    "outputId": "661114cc-4b33-4f52-9100-986d124953b5"
   },
   "outputs": [
    {
     "data": {
      "text/plain": [
       "False    398208\n",
       "True       1792\n",
       "dtype: int64"
      ]
     },
     "execution_count": 10,
     "metadata": {},
     "output_type": "execute_result"
    }
   ],
   "source": [
    "data.duplicated().value_counts()"
   ]
  },
  {
   "cell_type": "code",
   "execution_count": 11,
   "metadata": {
    "colab": {
     "base_uri": "https://localhost:8080/"
    },
    "id": "hCnoS1v9G4DM",
    "outputId": "f9070bd6-2782-46bb-f2cc-0aeec8a75ef8"
   },
   "outputs": [
    {
     "data": {
      "text/plain": [
       "133911"
      ]
     },
     "execution_count": 11,
     "metadata": {},
     "output_type": "execute_result"
    }
   ],
   "source": [
    "data['NAME'].nunique()"
   ]
  },
  {
   "cell_type": "code",
   "execution_count": 12,
   "metadata": {
    "colab": {
     "base_uri": "https://localhost:8080/"
    },
    "id": "rZj6JaCpHfHa",
    "outputId": "1a97c7cd-ba82-4364-e2fb-11b3260e847b"
   },
   "outputs": [
    {
     "data": {
      "text/plain": [
       "2"
      ]
     },
     "execution_count": 12,
     "metadata": {},
     "output_type": "execute_result"
    }
   ],
   "source": [
    "data['GENDER'].nunique()"
   ]
  },
  {
   "cell_type": "code",
   "execution_count": 13,
   "metadata": {
    "colab": {
     "base_uri": "https://localhost:8080/"
    },
    "id": "UFLHBw4BHoRy",
    "outputId": "16a9e1db-e18d-485a-ad4f-85694aa5074b"
   },
   "outputs": [
    {
     "data": {
      "text/plain": [
       "502"
      ]
     },
     "execution_count": 13,
     "metadata": {},
     "output_type": "execute_result"
    }
   ],
   "source": [
    "data['DRUG NAME'].nunique()"
   ]
  },
  {
   "cell_type": "code",
   "execution_count": 14,
   "metadata": {
    "colab": {
     "base_uri": "https://localhost:8080/"
    },
    "id": "GnPjXLlGHsl2",
    "outputId": "593df6cb-5a01-4d40-fb55-76444212383a"
   },
   "outputs": [
    {
     "data": {
      "text/plain": [
       "80"
      ]
     },
     "execution_count": 14,
     "metadata": {},
     "output_type": "execute_result"
    }
   ],
   "source": [
    "data['AGE'].nunique()"
   ]
  },
  {
   "cell_type": "code",
   "execution_count": 15,
   "metadata": {
    "colab": {
     "base_uri": "https://localhost:8080/"
    },
    "id": "3wXQMuX_Hwyg",
    "outputId": "01b79150-4e7f-4c5f-918c-b7d24b044f76"
   },
   "outputs": [
    {
     "data": {
      "text/plain": [
       "9"
      ]
     },
     "execution_count": 15,
     "metadata": {},
     "output_type": "execute_result"
    }
   ],
   "source": [
    "data['RACE'].nunique()"
   ]
  },
  {
   "cell_type": "code",
   "execution_count": 16,
   "metadata": {
    "colab": {
     "base_uri": "https://localhost:8080/"
    },
    "id": "VLEAVBt5H2QN",
    "outputId": "7c95c40e-b241-4911-c033-3e8018911a06"
   },
   "outputs": [
    {
     "data": {
      "text/plain": [
       "5"
      ]
     },
     "execution_count": 16,
     "metadata": {},
     "output_type": "execute_result"
    }
   ],
   "source": [
    "data['SIDE EFFECTS'].nunique()"
   ]
  },
  {
   "cell_type": "code",
   "execution_count": 17,
   "metadata": {
    "colab": {
     "base_uri": "https://localhost:8080/"
    },
    "id": "zpfy16OmH_2C",
    "outputId": "82004780-e179-43b3-9a03-ded3ae4108d2"
   },
   "outputs": [
    {
     "name": "stdout",
     "output_type": "stream",
     "text": [
      "<class 'pandas.core.frame.DataFrame'>\n",
      "RangeIndex: 400000 entries, 0 to 399999\n",
      "Data columns (total 6 columns):\n",
      " #   Column        Non-Null Count   Dtype  \n",
      "---  ------        --------------   -----  \n",
      " 0   NAME          400000 non-null  object \n",
      " 1   GENDER        400000 non-null  object \n",
      " 2   DRUG NAME     400000 non-null  object \n",
      " 3   AGE           399980 non-null  float64\n",
      " 4   RACE          400000 non-null  object \n",
      " 5   SIDE EFFECTS  400000 non-null  object \n",
      "dtypes: float64(1), object(5)\n",
      "memory usage: 18.3+ MB\n"
     ]
    }
   ],
   "source": [
    "data.info()"
   ]
  },
  {
   "cell_type": "code",
   "execution_count": 18,
   "metadata": {
    "colab": {
     "base_uri": "https://localhost:8080/"
    },
    "id": "VaRdRDuRINlq",
    "outputId": "806ac504-e71d-4489-818d-2b86e234f560"
   },
   "outputs": [
    {
     "data": {
      "text/plain": [
       "NAME             object\n",
       "GENDER           object\n",
       "DRUG NAME        object\n",
       "AGE             float64\n",
       "RACE             object\n",
       "SIDE EFFECTS     object\n",
       "dtype: object"
      ]
     },
     "execution_count": 18,
     "metadata": {},
     "output_type": "execute_result"
    }
   ],
   "source": [
    "data.dtypes"
   ]
  },
  {
   "cell_type": "code",
   "execution_count": 19,
   "metadata": {
    "colab": {
     "base_uri": "https://localhost:8080/",
     "height": 300
    },
    "id": "8-Qd3TE3IZtq",
    "outputId": "999e1399-b413-478e-9d56-80519ad15630"
   },
   "outputs": [
    {
     "data": {
      "text/html": [
       "<div>\n",
       "<style scoped>\n",
       "    .dataframe tbody tr th:only-of-type {\n",
       "        vertical-align: middle;\n",
       "    }\n",
       "\n",
       "    .dataframe tbody tr th {\n",
       "        vertical-align: top;\n",
       "    }\n",
       "\n",
       "    .dataframe thead th {\n",
       "        text-align: right;\n",
       "    }\n",
       "</style>\n",
       "<table border=\"1\" class=\"dataframe\">\n",
       "  <thead>\n",
       "    <tr style=\"text-align: right;\">\n",
       "      <th></th>\n",
       "      <th>AGE</th>\n",
       "    </tr>\n",
       "  </thead>\n",
       "  <tbody>\n",
       "    <tr>\n",
       "      <th>count</th>\n",
       "      <td>399980.000000</td>\n",
       "    </tr>\n",
       "    <tr>\n",
       "      <th>mean</th>\n",
       "      <td>41.466513</td>\n",
       "    </tr>\n",
       "    <tr>\n",
       "      <th>std</th>\n",
       "      <td>12.550773</td>\n",
       "    </tr>\n",
       "    <tr>\n",
       "      <th>min</th>\n",
       "      <td>14.000000</td>\n",
       "    </tr>\n",
       "    <tr>\n",
       "      <th>25%</th>\n",
       "      <td>31.000000</td>\n",
       "    </tr>\n",
       "    <tr>\n",
       "      <th>50%</th>\n",
       "      <td>41.000000</td>\n",
       "    </tr>\n",
       "    <tr>\n",
       "      <th>75%</th>\n",
       "      <td>51.000000</td>\n",
       "    </tr>\n",
       "    <tr>\n",
       "      <th>max</th>\n",
       "      <td>600.000000</td>\n",
       "    </tr>\n",
       "  </tbody>\n",
       "</table>\n",
       "</div>"
      ],
      "text/plain": [
       "                 AGE\n",
       "count  399980.000000\n",
       "mean       41.466513\n",
       "std        12.550773\n",
       "min        14.000000\n",
       "25%        31.000000\n",
       "50%        41.000000\n",
       "75%        51.000000\n",
       "max       600.000000"
      ]
     },
     "execution_count": 19,
     "metadata": {},
     "output_type": "execute_result"
    }
   ],
   "source": [
    "data.describe()"
   ]
  },
  {
   "cell_type": "code",
   "execution_count": 20,
   "metadata": {
    "colab": {
     "base_uri": "https://localhost:8080/"
    },
    "id": "0EAhNWGpIdvg",
    "outputId": "7be99fb0-cd76-413e-c559-45f855e5b127"
   },
   "outputs": [
    {
     "data": {
      "text/plain": [
       "array(['Aaban', 'Aabha', 'Aabid', ..., 'Zyyon', 'Zzyzx', 'TRUE'],\n",
       "      dtype=object)"
      ]
     },
     "execution_count": 20,
     "metadata": {},
     "output_type": "execute_result"
    }
   ],
   "source": [
    "data['NAME'].unique()"
   ]
  },
  {
   "cell_type": "code",
   "execution_count": 21,
   "metadata": {
    "colab": {
     "base_uri": "https://localhost:8080/"
    },
    "id": "iAbKmSieI0Kv",
    "outputId": "76f5a0b4-1489-4f14-c203-aad02ddd147b"
   },
   "outputs": [
    {
     "data": {
      "text/plain": [
       "array(['M', 'F'], dtype=object)"
      ]
     },
     "execution_count": 21,
     "metadata": {},
     "output_type": "execute_result"
    }
   ],
   "source": [
    "data['GENDER'].unique()"
   ]
  },
  {
   "cell_type": "code",
   "execution_count": 22,
   "metadata": {
    "colab": {
     "base_uri": "https://localhost:8080/"
    },
    "id": "74Sqg4T_I1SH",
    "outputId": "55f97966-5ca7-470d-b49c-405ce2d0dac6"
   },
   "outputs": [
    {
     "data": {
      "text/plain": [
       "array(['topamax', 'zocor', 'tazorac', 'voltaren', 'tramadol', 'valtrex',\n",
       "       'levoxyl', 'imitrex', 'seroquel', 'minocycline', 'proscar',\n",
       "       'keflex', 'cataflam', 'zyrtec', 'lexapro', 'spironolactone',\n",
       "       'claripel-cream', 'wellbutrin-sr', 'prozac', 'wellbutrin-xl',\n",
       "       'citalopram', 'baclofen', 'concerta', 'singulair', 'angeliq',\n",
       "       'yasmin', 'cialis', 'lunesta', 'cymbalta', 'methotrexate',\n",
       "       'lamictal', 'evoclin', 'actonel', 'protonix', 'premarin',\n",
       "       'provigil', 'protopic', 'prednisone', 'diazepam', 'ultram',\n",
       "       'albuterol', 'zovirax', 'asacol', 'zegerid', 'halcion', 'differin',\n",
       "       'nexium', 'phenergan', 'propecia', 'enalapril', 'chantix', 'avita',\n",
       "       'synthroid', 'renova', 'buspar', 'retin-a-micro', 'climara',\n",
       "       'estrace', 'klonopin', 'ambien', 'prevacid', 'lipitor',\n",
       "       'wellbutrin', 'seasonique', 'paxil', 'nortriptyline', 'amoxil',\n",
       "       'nitrofurantoin', 'tamiflu', 'noroxin', 'acyclovir', 'aromasin',\n",
       "       'celebrex', 'claritin', 'ortho-tri-cyclen', 'metrogel', 'xanax',\n",
       "       'restoril', 'frova', 'tri-luma', 'zmax', 'qvar', 'elavil',\n",
       "       'atarax', 'adderall', 'aricept', 'lorazepam', 'vyvanse', 'flonase',\n",
       "       'mevacor', 'accutane', 'panixine-disperdose', 'tenormin',\n",
       "       'augmentin', 'abilify', 'trazodone', 'seasonale', 'neurontin',\n",
       "       'nuvaring', 'nasacort', 'minoxidil', 'oxycodone', 'aldactone',\n",
       "       'diclofenac', 'armour-thyroid', 'avage', 'avelox', 'ditropan',\n",
       "       'miralax', 'fexofenadine', 'clarinex', 'fosamax', 'lortab',\n",
       "       'effexor-xr', 'metformin', 'prometrium', 'erythromycin',\n",
       "       'xanax-xr', 'remicade', 'prempro', 'darvocet-n', 'ativan',\n",
       "       'lumigan', 'norvasc', 'lamisil', 'clonazepam', 'symbyax', 'vaniqa',\n",
       "       'ultracet', 'sotret', 'retin-a', 'effexor', 'zyrtec-d', 'celexa',\n",
       "       'sulfasalazine', 'zyprexa', 'sonata', 'isoniazid', 'lyrica',\n",
       "       'prilosec', 'byetta', 'crestor', 'maxalt', 'enbrel', 'femring',\n",
       "       'nolvadex', 'cleocin', 'copaxone', 'zithromax', 'estratest',\n",
       "       'naltrexone', 'ampicillin', 'omnitrope', 'oracea', 'prinivil',\n",
       "       'adipex-p', 'mirena', 'strattera', 'proquin-xr', 'vytorin',\n",
       "       'percocet', 'depo-provera', 'humira', 'tetracycline', 'zoloft',\n",
       "       'ambien-cr', 'actos', 'niaspan', 'xyrem', 'valium', 'duac',\n",
       "       'doxycycline', 'pristiq', 'pravachol', 'trimethoprim', 'estrasorb',\n",
       "       'coumadin', 'zyban', 'risperdal', 'levora', 'pentasa', 'nasonex',\n",
       "       'zomig', 'flexeril', 'klaron', 'tussionex', 'metronidazole',\n",
       "       'naproxen', 'cipro', 'allegra-d', 'botox', 'advair-hfa',\n",
       "       'symbicort', 'triaz', 'arava', 'vicodin', 'sarafem', 'meridia',\n",
       "       'aygestin', 'selegiline', 'xenical', 'atenolol', 'tirosint',\n",
       "       'keppra', 'diovan', 'macrobid', 'cosopt', 'efudex', 'ritalin',\n",
       "       'ranitidine', 'toradol', 'nuvigil', 'sular', 'remeron',\n",
       "       'hydrochlorothiazide', 'dextrostat', 'doryx', 'desyrel', 'plendil',\n",
       "       'naprosyn', 'allegra', 'sumatriptan', 'vivelle-dot', 'mirtazapine',\n",
       "       'delestrogen', 'mobic', 'vagifem', 'parlodel', 'advair-diskus',\n",
       "       'glucophage', 'requip', 'oxycontin', 'trilipix', 'micardis',\n",
       "       'ketoconazole', 'clindamycin', 'norpramin', 'hytrin', 'flagyl',\n",
       "       'plavix', 'motrin', 'latisse', 'betamethasone', 'clobex',\n",
       "       'alprazolam', 'soma', 'biaxin', 'malarone', 'imodium', 'penlac',\n",
       "       'aczone', 'omacor', 'nizoral-shampoo', 'oxazepam', 'polymyxin-b',\n",
       "       'alendronate', 'meperidine', 'elidel', 'vioxx', 'innofem',\n",
       "       'grifulvin-v', 'omnicef', 'eulexin', 'ortho-tri-cyclen-lo',\n",
       "       'seroquel-xr', 'restasis', 'enablex', 'fluvoxamine', 'suboxone',\n",
       "       'metoprolol', 'lidex', 'tofranil-pm', 'betaseron', 'buprenorphine',\n",
       "       'zantac', 'geodon', 'dexedrine', 'clomid', 'ketorolac', 'zofran',\n",
       "       'sulindac', 'fiorinal', 'finacea', 'fluconazole', 'topicort',\n",
       "       'tylenol', 'baraclude', 'prochlorperazine', 'ventolin-hfa',\n",
       "       'avodart', 'axert', 'evista', 'penicillin-v', 'relpax', 'atripla',\n",
       "       'amitiza', 'fortaz', 'permapen', 'hydrocodone-and-acetaminophen',\n",
       "       'vasotec', 'temovate', 'lopressor', 'lamotrigine',\n",
       "       'premarin-vaginal', 'coreg', 'elocon', 'climara-pro', 'follistim',\n",
       "       'locoid-lipocream', 'accupril', 'niacor', 'catapres', 'azasan',\n",
       "       'imuran', 'viagra', 'ortho-novum', 'benicar-hct', 'tobramycin',\n",
       "       'fentanyl', 'triphasil', 'diflucan', 'ortho-evra', 'levaquin',\n",
       "       'benzaclin', 'aldara', 'compazine', 'ponstel', 'trimethobenzamide',\n",
       "       'inderal', 'galzin', 'carac', 'cardura-xl', 'lac-hydrin', 'ceclor',\n",
       "       'methadone', 'dispermox', 'xalatan', 'dovonex', 'corgard',\n",
       "       'solodyn', 'diltiazem', 'clobetasol', 'levitra', 'ecotrin',\n",
       "       'morphine', 'boniva', 'danazol', 'hyzaar', 'atacand', 'relafen',\n",
       "       'dysport', 'nizoral', 'ritalin-la', 'ziac', 'prednisolone',\n",
       "       'triamcinolone', 'estrostep-fe', 'cytomel', 'lodine',\n",
       "       'fosamax-plus-d', 'lidocaine', 'fioricet', 'dicyclomine',\n",
       "       'phendimetrazine', 'quibron-t', 'rhinocort', 'spiriva',\n",
       "       'oxybutynin', 'dilantin', 'desonide', 'lithium-carbonate',\n",
       "       'clarithromycin', 'detrol-la', 'dextroamphetamine', 'avapro',\n",
       "       'deltasone', 'femhrt', 'adderall-xr', 'dilaudid', 'bactrim-ds',\n",
       "       'nystatin', 'proair-hfa', 'mirapex', 'periostat', 'soltamox',\n",
       "       'pilocarpine', 'periogard', 'lantus', 'reglan', 'androgel',\n",
       "       'oxycodone-and-acetaminophen', 'depakene', 'cozaar', 'antivert',\n",
       "       'haldol', 'ribavirin', 'doxepin', 'lotrel', 'medroxyprogesterone',\n",
       "       'caduet', 'amphetamine', 'prograf', 'divigel', 'hydrocortisone',\n",
       "       'ziana', 'alesse', 'azopt', 'methimazole', 'fosinopril', 'rebif',\n",
       "       'paxil-cr', 'septra', 'ultram-er', 'provera', 'tambocor',\n",
       "       'hyoscyamine', 'levothroid', 'metrolotion', 'emsam',\n",
       "       'metoclopramide', 'aralen', 'azelex', 'flovent', 'tarka',\n",
       "       'vivelle', 'lo-ovral', 'anafranil', 'mercaptopurine', 'aloprim',\n",
       "       'nasarel', 'gonal-f-rff', 'trileptal', 'trental', 'elmiron',\n",
       "       'lasix', 'exelon', 'adcirca', 'duragesic', 'proloprim',\n",
       "       'dexamethasone', 'progesterone', 'skelaxin', 'vigamox',\n",
       "       'metformin-extended-release', 'neoprofen', 'inspra', 'zestoretic',\n",
       "       'vesicare', 'depakote', 'tekturna', 'serzone', 'benicar', 'zyvox',\n",
       "       'saizen', 'tegretol', 'propranolol', 'bystolic', 'nasacort-aq',\n",
       "       'pepcid', 'nardil', 'aciphex', 'sanctura-xr', 'vicoprofen',\n",
       "       'minocin', 'clindamycin-topical', 'lupron', 'accolate', 'flomax',\n",
       "       'asmanex', 'baciim', 'cardura', 'arthrotec', 'dostinex',\n",
       "       'tapazole', 'actiq', 'xyzal', 'bactroban', 'amerge', 'femara',\n",
       "       'toprol-xl', 'detrol', 'warfarin', 'glucophage-xr', 'kenalog',\n",
       "       'cyproheptadine', 'lotronex', 'levetiracetam', 'cefzil', 'azor',\n",
       "       'estring', 'erythra-derm', 'rifadin', 'bisoprolol',\n",
       "       'zovirax-topical', 'dapsone', 'lybrel', 'tequin',\n",
       "       'risperdal-consta', 'pamelor', 'benadryl', 'vistaril', 'arimidex'],\n",
       "      dtype=object)"
      ]
     },
     "execution_count": 22,
     "metadata": {},
     "output_type": "execute_result"
    }
   ],
   "source": [
    "data['DRUG NAME'].unique()"
   ]
  },
  {
   "cell_type": "code",
   "execution_count": 23,
   "metadata": {
    "colab": {
     "base_uri": "https://localhost:8080/"
    },
    "id": "yZiqE7q3I-MM",
    "outputId": "b18b9782-81d5-469d-bb8e-49502f67fed6"
   },
   "outputs": [
    {
     "data": {
      "text/plain": [
       "array(['White', 'Hispanic, White', 'Unknown', 'Black', 'Other',\n",
       "       'Hispanic, Black', 'Asian, Other', 'Asian Indian', 'Chinese'],\n",
       "      dtype=object)"
      ]
     },
     "execution_count": 23,
     "metadata": {},
     "output_type": "execute_result"
    }
   ],
   "source": [
    "data['RACE'].unique()"
   ]
  },
  {
   "cell_type": "code",
   "execution_count": 24,
   "metadata": {
    "colab": {
     "base_uri": "https://localhost:8080/"
    },
    "id": "4CAL5v50JEBi",
    "outputId": "d2ac0672-2f0f-4f2c-c62e-c0c1039780a6"
   },
   "outputs": [
    {
     "data": {
      "text/plain": [
       "array([ 41.,  53.,  31.,  44.,  24.,  55.,  34.,  28.,  38.,  56.,  18.,\n",
       "        35.,  50.,  52.,  62.,  42.,  23.,  40.,  22.,  32.,  39.,  51.,\n",
       "        29.,  43.,  57.,  26.,  60.,  36.,  54.,  70.,  37.,  30.,  65.,\n",
       "        47.,  33.,  58.,  25.,  49.,  46.,  48.,  59.,  71.,  63.,  45.,\n",
       "        67.,  21.,  27.,  17.,  20.,  66.,  61.,  64.,  15.,  69.,  19.,\n",
       "       300.,  73.,  68.,  72.,  74.,  75.,  14.,  nan, 302.,  87.,  90.,\n",
       "        84.,  80., 500., 400., 203., 160., 191., 450., 390.,  77., 155.,\n",
       "       600., 211., 401.,  89.])"
      ]
     },
     "execution_count": 24,
     "metadata": {},
     "output_type": "execute_result"
    }
   ],
   "source": [
    "data['AGE'].unique()"
   ]
  },
  {
   "cell_type": "code",
   "execution_count": 25,
   "metadata": {
    "colab": {
     "base_uri": "https://localhost:8080/"
    },
    "id": "Zy15J2HlJEkh",
    "outputId": "17a89e6e-db8b-417e-dd44-0bc7b83304b4"
   },
   "outputs": [
    {
     "data": {
      "text/plain": [
       "array(['Mild Side Effects', 'Extremely Severe Side Effects',\n",
       "       'Severe Side Effects', 'No Side Effects', 'Moderate Side Effects'],\n",
       "      dtype=object)"
      ]
     },
     "execution_count": 25,
     "metadata": {},
     "output_type": "execute_result"
    }
   ],
   "source": [
    "data['SIDE EFFECTS'].unique()"
   ]
  },
  {
   "cell_type": "code",
   "execution_count": 26,
   "metadata": {
    "colab": {
     "base_uri": "https://localhost:8080/"
    },
    "id": "RGtrKRA9JT-b",
    "outputId": "461456ac-696d-498b-95cd-7ae4e15da23a"
   },
   "outputs": [
    {
     "data": {
      "text/plain": [
       "NAME             0\n",
       "GENDER           0\n",
       "DRUG NAME        0\n",
       "AGE             20\n",
       "RACE             0\n",
       "SIDE EFFECTS     0\n",
       "dtype: int64"
      ]
     },
     "execution_count": 26,
     "metadata": {},
     "output_type": "execute_result"
    }
   ],
   "source": [
    "data.isna().sum()"
   ]
  },
  {
   "cell_type": "markdown",
   "metadata": {
    "id": "zlDH14haJ2_u"
   },
   "source": [
    "#There are missing values in the AGE."
   ]
  },
  {
   "cell_type": "markdown",
   "metadata": {
    "id": "_2F4-TwiJZRv"
   },
   "source": [
    "**UNIVARIATE** **ANALYSIS**"
   ]
  },
  {
   "cell_type": "code",
   "execution_count": 27,
   "metadata": {
    "id": "H-lCAEFvFTKb"
   },
   "outputs": [],
   "source": [
    "#NAME"
   ]
  },
  {
   "cell_type": "code",
   "execution_count": 28,
   "metadata": {
    "id": "zcQZRBPOFVm8"
   },
   "outputs": [],
   "source": [
    "#Drop the column \"Name\" which doesn't give any contribution for the modelling\n",
    "data = data.drop(['NAME'], axis = 1)"
   ]
  },
  {
   "cell_type": "code",
   "execution_count": 29,
   "metadata": {
    "colab": {
     "base_uri": "https://localhost:8080/",
     "height": 424
    },
    "id": "HuD-hSI0Fe-W",
    "outputId": "4585deee-a15b-4e26-f9a5-a831654e40d5"
   },
   "outputs": [
    {
     "data": {
      "text/html": [
       "<div>\n",
       "<style scoped>\n",
       "    .dataframe tbody tr th:only-of-type {\n",
       "        vertical-align: middle;\n",
       "    }\n",
       "\n",
       "    .dataframe tbody tr th {\n",
       "        vertical-align: top;\n",
       "    }\n",
       "\n",
       "    .dataframe thead th {\n",
       "        text-align: right;\n",
       "    }\n",
       "</style>\n",
       "<table border=\"1\" class=\"dataframe\">\n",
       "  <thead>\n",
       "    <tr style=\"text-align: right;\">\n",
       "      <th></th>\n",
       "      <th>GENDER</th>\n",
       "      <th>DRUG NAME</th>\n",
       "      <th>AGE</th>\n",
       "      <th>RACE</th>\n",
       "      <th>SIDE EFFECTS</th>\n",
       "    </tr>\n",
       "  </thead>\n",
       "  <tbody>\n",
       "    <tr>\n",
       "      <th>0</th>\n",
       "      <td>M</td>\n",
       "      <td>topamax</td>\n",
       "      <td>41.0</td>\n",
       "      <td>White</td>\n",
       "      <td>Mild Side Effects</td>\n",
       "    </tr>\n",
       "    <tr>\n",
       "      <th>1</th>\n",
       "      <td>M</td>\n",
       "      <td>zocor</td>\n",
       "      <td>53.0</td>\n",
       "      <td>Hispanic, White</td>\n",
       "      <td>Extremely Severe Side Effects</td>\n",
       "    </tr>\n",
       "    <tr>\n",
       "      <th>2</th>\n",
       "      <td>F</td>\n",
       "      <td>tazorac</td>\n",
       "      <td>31.0</td>\n",
       "      <td>White</td>\n",
       "      <td>Mild Side Effects</td>\n",
       "    </tr>\n",
       "    <tr>\n",
       "      <th>3</th>\n",
       "      <td>F</td>\n",
       "      <td>voltaren</td>\n",
       "      <td>44.0</td>\n",
       "      <td>White</td>\n",
       "      <td>Severe Side Effects</td>\n",
       "    </tr>\n",
       "    <tr>\n",
       "      <th>4</th>\n",
       "      <td>M</td>\n",
       "      <td>tramadol</td>\n",
       "      <td>24.0</td>\n",
       "      <td>White</td>\n",
       "      <td>No Side Effects</td>\n",
       "    </tr>\n",
       "    <tr>\n",
       "      <th>...</th>\n",
       "      <td>...</td>\n",
       "      <td>...</td>\n",
       "      <td>...</td>\n",
       "      <td>...</td>\n",
       "      <td>...</td>\n",
       "    </tr>\n",
       "    <tr>\n",
       "      <th>399995</th>\n",
       "      <td>M</td>\n",
       "      <td>lamisil</td>\n",
       "      <td>50.0</td>\n",
       "      <td>White</td>\n",
       "      <td>Severe Side Effects</td>\n",
       "    </tr>\n",
       "    <tr>\n",
       "      <th>399996</th>\n",
       "      <td>M</td>\n",
       "      <td>klaron</td>\n",
       "      <td>55.0</td>\n",
       "      <td>Hispanic, White</td>\n",
       "      <td>No Side Effects</td>\n",
       "    </tr>\n",
       "    <tr>\n",
       "      <th>399997</th>\n",
       "      <td>M</td>\n",
       "      <td>celexa</td>\n",
       "      <td>57.0</td>\n",
       "      <td>Other</td>\n",
       "      <td>Severe Side Effects</td>\n",
       "    </tr>\n",
       "    <tr>\n",
       "      <th>399998</th>\n",
       "      <td>F</td>\n",
       "      <td>zoloft</td>\n",
       "      <td>59.0</td>\n",
       "      <td>White</td>\n",
       "      <td>No Side Effects</td>\n",
       "    </tr>\n",
       "    <tr>\n",
       "      <th>399999</th>\n",
       "      <td>M</td>\n",
       "      <td>prilosec</td>\n",
       "      <td>65.0</td>\n",
       "      <td>White</td>\n",
       "      <td>Mild Side Effects</td>\n",
       "    </tr>\n",
       "  </tbody>\n",
       "</table>\n",
       "<p>400000 rows × 5 columns</p>\n",
       "</div>"
      ],
      "text/plain": [
       "       GENDER DRUG NAME   AGE             RACE                   SIDE EFFECTS\n",
       "0           M   topamax  41.0            White              Mild Side Effects\n",
       "1           M     zocor  53.0  Hispanic, White  Extremely Severe Side Effects\n",
       "2           F   tazorac  31.0            White              Mild Side Effects\n",
       "3           F  voltaren  44.0            White            Severe Side Effects\n",
       "4           M  tramadol  24.0            White                No Side Effects\n",
       "...       ...       ...   ...              ...                            ...\n",
       "399995      M   lamisil  50.0            White            Severe Side Effects\n",
       "399996      M    klaron  55.0  Hispanic, White                No Side Effects\n",
       "399997      M    celexa  57.0            Other            Severe Side Effects\n",
       "399998      F    zoloft  59.0            White                No Side Effects\n",
       "399999      M  prilosec  65.0            White              Mild Side Effects\n",
       "\n",
       "[400000 rows x 5 columns]"
      ]
     },
     "execution_count": 29,
     "metadata": {},
     "output_type": "execute_result"
    }
   ],
   "source": [
    "data"
   ]
  },
  {
   "cell_type": "code",
   "execution_count": 30,
   "metadata": {
    "id": "c3tcpQJHCWpo"
   },
   "outputs": [],
   "source": [
    "#RACE"
   ]
  },
  {
   "cell_type": "code",
   "execution_count": 31,
   "metadata": {
    "colab": {
     "base_uri": "https://localhost:8080/"
    },
    "id": "CDZLPjUVJkti",
    "outputId": "598d768e-7bc4-413e-9280-0face02e2b63"
   },
   "outputs": [
    {
     "data": {
      "text/plain": [
       "White              0.785185\n",
       "Hispanic, White    0.110180\n",
       "Black              0.089612\n",
       "Unknown            0.007615\n",
       "Hispanic, Black    0.004182\n",
       "Other              0.002525\n",
       "Asian, Other       0.000420\n",
       "Asian Indian       0.000260\n",
       "Chinese            0.000020\n",
       "Name: RACE, dtype: float64"
      ]
     },
     "execution_count": 31,
     "metadata": {},
     "output_type": "execute_result"
    }
   ],
   "source": [
    "data['RACE'].value_counts(normalize=True)"
   ]
  },
  {
   "cell_type": "code",
   "execution_count": 32,
   "metadata": {
    "colab": {
     "base_uri": "https://localhost:8080/",
     "height": 658
    },
    "id": "Lc6fEg8WKZiB",
    "outputId": "b809da59-3775-4481-ff3e-d0e5364a64f5"
   },
   "outputs": [
    {
     "data": {
      "image/png": "[encoded data removed]",
      "text/plain": [
       "<Figure size 1200x600 with 1 Axes>"
      ]
     },
     "metadata": {},
     "output_type": "display_data"
    }
   ],
   "source": [
    "plt.figure(figsize=(12, 6))\n",
    "sns.countplot(x='RACE', data=data, order=data['RACE'].value_counts().index)\n",
    "plt.title('Counts of RACE')\n",
    "plt.xlabel('RACE')\n",
    "plt.ylabel('Count')\n",
    "plt.xticks(rotation=90)\n",
    "plt.show()"
   ]
  },
  {
   "cell_type": "code",
   "execution_count": 33,
   "metadata": {
    "id": "gA0rx_FuLdN4"
   },
   "outputs": [],
   "source": [
    "#GENDER"
   ]
  },
  {
   "cell_type": "code",
   "execution_count": 34,
   "metadata": {
    "colab": {
     "base_uri": "https://localhost:8080/"
    },
    "id": "L6PuLgrnNMUM",
    "outputId": "441ca119-5f9f-4cb3-9c26-58eab4f37801"
   },
   "outputs": [
    {
     "data": {
      "text/plain": [
       "F    0.594378\n",
       "M    0.405622\n",
       "Name: GENDER, dtype: float64"
      ]
     },
     "execution_count": 34,
     "metadata": {},
     "output_type": "execute_result"
    }
   ],
   "source": [
    "data['GENDER'].value_counts(normalize=True)"
   ]
  },
  {
   "cell_type": "code",
   "execution_count": 35,
   "metadata": {
    "colab": {
     "base_uri": "https://localhost:8080/",
     "height": 428
    },
    "id": "RhZfEdTTNMvV",
    "outputId": "1d347c35-40aa-4261-9375-54c7281003a4"
   },
   "outputs": [
    {
     "data": {
      "image/png": "[encoded data removed]",
      "text/plain": [
       "<Figure size 640x480 with 1 Axes>"
      ]
     },
     "metadata": {},
     "output_type": "display_data"
    }
   ],
   "source": [
    "data['GENDER'].value_counts().plot.bar()\n",
    "plt.show()"
   ]
  },
  {
   "cell_type": "code",
   "execution_count": 36,
   "metadata": {
    "id": "j4UpjVblFnSo"
   },
   "outputs": [],
   "source": [
    "#59.4% are females ,40.5% are males"
   ]
  },
  {
   "cell_type": "code",
   "execution_count": 37,
   "metadata": {
    "id": "NDrl527DNovI"
   },
   "outputs": [],
   "source": [
    "#AGE"
   ]
  },
  {
   "cell_type": "code",
   "execution_count": 38,
   "metadata": {
    "colab": {
     "base_uri": "https://localhost:8080/",
     "height": 487
    },
    "id": "DIcdpzL9D9MW",
    "outputId": "225a676c-7987-4388-e7ad-8fa31b3b2d44"
   },
   "outputs": [
    {
     "data": {
      "image/png": "[encoded data removed]",
      "text/plain": [
       "<Figure size 500x500 with 1 Axes>"
      ]
     },
     "metadata": {},
     "output_type": "display_data"
    }
   ],
   "source": [
    "import matplotlib.pyplot as plt\n",
    "\n",
    "plt.figure(figsize=(5, 5))\n",
    "plt.hist(data['AGE'], bins=100)\n",
    "plt.xlabel('AGE')\n",
    "plt.ylabel('Count')\n",
    "plt.title('Distribution of AGE')\n",
    "\n",
    "# Set custom x-axis limits (replace xmin and xmax with your desired range)\n",
    "xmin, xmax = 0, 100  # Replace these values with your desired range\n",
    "plt.xlim(xmin, xmax)\n",
    "\n",
    "plt.show()\n"
   ]
  },
  {
   "cell_type": "code",
   "execution_count": 39,
   "metadata": {
    "colab": {
     "base_uri": "https://localhost:8080/"
    },
    "id": "X0zJHD10EIBH",
    "outputId": "f07c46a4-e2fe-4c84-ddd3-b564bab5e476"
   },
   "outputs": [
    {
     "data": {
      "text/plain": [
       "55.0     15572\n",
       "37.0     14379\n",
       "29.0     13719\n",
       "24.0     13703\n",
       "41.0     12974\n",
       "         ...  \n",
       "500.0        1\n",
       "80.0         1\n",
       "90.0         1\n",
       "302.0        1\n",
       "89.0         1\n",
       "Name: AGE, Length: 80, dtype: int64"
      ]
     },
     "execution_count": 39,
     "metadata": {},
     "output_type": "execute_result"
    }
   ],
   "source": [
    "data['AGE'].value_counts()"
   ]
  },
  {
   "cell_type": "code",
   "execution_count": 48,
   "metadata": {},
   "outputs": [],
   "source": [
    "pd.set_option('display.max_rows',None)"
   ]
  },
  {
   "cell_type": "code",
   "execution_count": 49,
   "metadata": {},
   "outputs": [
    {
     "data": {
      "text/plain": [
       "55.0     15572\n",
       "37.0     14379\n",
       "29.0     13719\n",
       "24.0     13703\n",
       "41.0     12974\n",
       "50.0     12651\n",
       "35.0     12575\n",
       "36.0     12543\n",
       "51.0     12507\n",
       "43.0     11553\n",
       "38.0     11466\n",
       "44.0     11286\n",
       "54.0     11214\n",
       "26.0     10536\n",
       "28.0     10450\n",
       "40.0     10122\n",
       "52.0     10106\n",
       "56.0      9354\n",
       "47.0      9339\n",
       "48.0      9330\n",
       "33.0      8970\n",
       "23.0      8529\n",
       "45.0      8223\n",
       "25.0      8205\n",
       "53.0      7998\n",
       "27.0      7600\n",
       "31.0      7354\n",
       "39.0      7162\n",
       "49.0      7129\n",
       "22.0      7127\n",
       "32.0      7019\n",
       "34.0      6900\n",
       "46.0      6774\n",
       "42.0      6683\n",
       "60.0      6300\n",
       "30.0      5994\n",
       "62.0      5244\n",
       "58.0      5038\n",
       "65.0      5019\n",
       "57.0      4195\n",
       "64.0      4051\n",
       "61.0      3327\n",
       "63.0      2707\n",
       "20.0      2697\n",
       "18.0      2474\n",
       "21.0      2293\n",
       "59.0      2136\n",
       "70.0      1958\n",
       "66.0      1130\n",
       "69.0      1058\n",
       "71.0      1026\n",
       "17.0       994\n",
       "15.0       517\n",
       "19.0       272\n",
       "67.0       218\n",
       "72.0        96\n",
       "75.0        48\n",
       "68.0        48\n",
       "73.0        32\n",
       "87.0         9\n",
       "74.0         8\n",
       "84.0         8\n",
       "14.0         8\n",
       "300.0        3\n",
       "390.0        3\n",
       "600.0        2\n",
       "400.0        2\n",
       "450.0        1\n",
       "401.0        1\n",
       "211.0        1\n",
       "155.0        1\n",
       "77.0         1\n",
       "160.0        1\n",
       "191.0        1\n",
       "203.0        1\n",
       "500.0        1\n",
       "80.0         1\n",
       "90.0         1\n",
       "302.0        1\n",
       "89.0         1\n",
       "Name: AGE, dtype: int64"
      ]
     },
     "execution_count": 49,
     "metadata": {},
     "output_type": "execute_result"
    }
   ],
   "source": [
    "data['AGE'].value_counts()"
   ]
  },
  {
   "cell_type": "code",
   "execution_count": 40,
   "metadata": {
    "id": "gEh9B0BTAZY7"
   },
   "outputs": [],
   "source": [
    "#SIDE EFFECTS"
   ]
  },
  {
   "cell_type": "code",
   "execution_count": 41,
   "metadata": {
    "colab": {
     "base_uri": "https://localhost:8080/"
    },
    "id": "xrTPTdwRARV9",
    "outputId": "46fe7115-0c48-401f-a2f6-cfc1b512f3be"
   },
   "outputs": [
    {
     "data": {
      "text/plain": [
       "Mild Side Effects                0.333090\n",
       "No Side Effects                  0.289403\n",
       "Moderate Side Effects            0.186273\n",
       "Severe Side Effects              0.133630\n",
       "Extremely Severe Side Effects    0.057605\n",
       "Name: SIDE EFFECTS, dtype: float64"
      ]
     },
     "execution_count": 41,
     "metadata": {},
     "output_type": "execute_result"
    }
   ],
   "source": [
    "data['SIDE EFFECTS'].value_counts(normalize=True)"
   ]
  },
  {
   "cell_type": "code",
   "execution_count": 42,
   "metadata": {
    "colab": {
     "base_uri": "https://localhost:8080/",
     "height": 867
    },
    "id": "bPm6liIPAbhR",
    "outputId": "dff2e1f3-aba7-4933-9aae-8c41a1398c52"
   },
   "outputs": [
    {
     "data": {
      "text/plain": [
       "<Axes: xlabel='SIDE EFFECTS', ylabel='count'>"
      ]
     },
     "execution_count": 42,
     "metadata": {},
     "output_type": "execute_result"
    },
    {
     "data": {
      "image/png": "[encoded data removed]",
      "text/plain": [
       "<Figure size 1200x1000 with 1 Axes>"
      ]
     },
     "metadata": {},
     "output_type": "display_data"
    }
   ],
   "source": [
    "plt.figure(figsize=(12,10))\n",
    "sns.countplot(x='SIDE EFFECTS', data=data)"
   ]
  },
  {
   "cell_type": "code",
   "execution_count": 43,
   "metadata": {
    "id": "KEMlrHy2GWXA"
   },
   "outputs": [],
   "source": [
    "#DRUG NAME"
   ]
  },
  {
   "cell_type": "code",
   "execution_count": 44,
   "metadata": {
    "colab": {
     "base_uri": "https://localhost:8080/"
    },
    "id": "pwihD0uMGY66",
    "outputId": "51c74c5e-1a5b-4a67-aa18-b6796ffca682"
   },
   "outputs": [
    {
     "data": {
      "text/plain": [
       "paxil         6269\n",
       "lamictal      6045\n",
       "nexium        6029\n",
       "levoxyl       5958\n",
       "ambien        5692\n",
       "              ... \n",
       "lantus           8\n",
       "periostat        8\n",
       "proair-hfa       8\n",
       "bactrim-ds       8\n",
       "arimidex         8\n",
       "Name: DRUG NAME, Length: 502, dtype: int64"
      ]
     },
     "execution_count": 44,
     "metadata": {},
     "output_type": "execute_result"
    }
   ],
   "source": [
    "data['DRUG NAME'].value_counts()"
   ]
  },
  {
   "cell_type": "code",
   "execution_count": 46,
   "metadata": {},
   "outputs": [],
   "source": [
    "pd.set_option('display.max_rows',None)"
   ]
  },
  {
   "cell_type": "code",
   "execution_count": 47,
   "metadata": {},
   "outputs": [
    {
     "data": {
      "text/plain": [
       "paxil                            6269\n",
       "lamictal                         6045\n",
       "nexium                           6029\n",
       "levoxyl                          5958\n",
       "ambien                           5692\n",
       "lexapro                          5691\n",
       "citalopram                       5560\n",
       "prozac                           5533\n",
       "retin-a                          5340\n",
       "effexor                          5276\n",
       "chantix                          5182\n",
       "differin                         5149\n",
       "provigil                         5051\n",
       "topamax                          4617\n",
       "augmentin                        4528\n",
       "neurontin                        4225\n",
       "ultram                           4042\n",
       "amoxil                           3993\n",
       "propecia                         3972\n",
       "synthroid                        3838\n",
       "retin-a-micro                    3709\n",
       "doxycycline                      3694\n",
       "elavil                           3596\n",
       "metrogel                         3510\n",
       "seroquel                         3303\n",
       "wellbutrin                       3296\n",
       "wellbutrin-xl                    3255\n",
       "effexor-xr                       3248\n",
       "tramadol                         3230\n",
       "prevacid                         3111\n",
       "seasonique                       3103\n",
       "zyrtec                           3103\n",
       "prednisone                       3102\n",
       "lamisil                          3063\n",
       "strattera                        3030\n",
       "albuterol                        3024\n",
       "tri-luma                         3024\n",
       "methotrexate                     3006\n",
       "voltaren                         2983\n",
       "zegerid                          2975\n",
       "cymbalta                         2958\n",
       "zovirax                          2942\n",
       "tenormin                         2902\n",
       "panixine-disperdose              2887\n",
       "lipitor                          2794\n",
       "vyvanse                          2714\n",
       "metformin                        2658\n",
       "nuvaring                         2626\n",
       "wellbutrin-sr                    2578\n",
       "zoloft                           2540\n",
       "acyclovir                        2460\n",
       "accutane                         2343\n",
       "valtrex                          2332\n",
       "minocycline                      2245\n",
       "lyrica                           2244\n",
       "renova                           2237\n",
       "xanax                            2173\n",
       "claritin                         2156\n",
       "avita                            2156\n",
       "yasmin                           2148\n",
       "celebrex                         2125\n",
       "remicade                         2109\n",
       "celexa                           2108\n",
       "vicodin                          2092\n",
       "ativan                           2077\n",
       "fosamax                          2060\n",
       "lorazepam                        1988\n",
       "avage                            1965\n",
       "pentasa                          1957\n",
       "byetta                           1949\n",
       "protopic                         1948\n",
       "fexofenadine                     1940\n",
       "baclofen                         1933\n",
       "estratest                        1932\n",
       "prometrium                       1925\n",
       "clarinex                         1925\n",
       "sonata                           1910\n",
       "imitrex                          1839\n",
       "adipex-p                         1799\n",
       "singulair                        1784\n",
       "flexeril                         1727\n",
       "tazorac                          1695\n",
       "ortho-tri-cyclen                 1681\n",
       "adderall                         1671\n",
       "premarin                         1664\n",
       "lunesta                          1647\n",
       "prempro                          1640\n",
       "concerta                         1615\n",
       "keflex                           1576\n",
       "climara                          1575\n",
       "clonazepam                       1552\n",
       "proquin-xr                       1495\n",
       "zyrtec-d                         1487\n",
       "nolvadex                         1480\n",
       "prinivil                         1298\n",
       "flonase                          1290\n",
       "cipro                            1274\n",
       "klonopin                         1226\n",
       "armour-thyroid                   1187\n",
       "spironolactone                   1186\n",
       "allegra                          1178\n",
       "prilosec                         1170\n",
       "enbrel                           1138\n",
       "naproxen                         1138\n",
       "zithromax                        1130\n",
       "cialis                           1123\n",
       "percocet                         1114\n",
       "zomig                            1114\n",
       "crestor                          1114\n",
       "proscar                          1106\n",
       "meridia                          1106\n",
       "sarafem                          1091\n",
       "oxycodone                        1090\n",
       "xyrem                            1090\n",
       "ambien-cr                        1083\n",
       "niaspan                          1067\n",
       "claripel-cream                   1066\n",
       "desyrel                          1058\n",
       "depo-provera                     1058\n",
       "diazepam                         1058\n",
       "oracea                           1058\n",
       "macrobid                         1058\n",
       "sotret                           1051\n",
       "lumigan                          1050\n",
       "xenical                          1050\n",
       "trazodone                        1042\n",
       "ditropan                         1042\n",
       "zyprexa                          1042\n",
       "aricept                          1035\n",
       "risperdal                        1034\n",
       "clindamycin                      1034\n",
       "avelox                           1027\n",
       "coumadin                         1026\n",
       "nortriptyline                    1019\n",
       "advair-hfa                       1019\n",
       "asacol                           1019\n",
       "tamiflu                          1018\n",
       "maxalt                           1018\n",
       "selegiline                       1018\n",
       "atarax                           1018\n",
       "cleocin                          1011\n",
       "sumatriptan                      1011\n",
       "doryx                            1010\n",
       "estrace                          1010\n",
       "abilify                          1010\n",
       "pristiq                          1010\n",
       "noroxin                          1010\n",
       "glucophage                       1002\n",
       "klaron                            995\n",
       "erythromycin                      994\n",
       "ultracet                          987\n",
       "aldactone                         987\n",
       "diovan                            987\n",
       "femring                           986\n",
       "toradol                           986\n",
       "duac                              979\n",
       "ranitidine                        979\n",
       "sulfasalazine                     979\n",
       "triaz                             978\n",
       "cosopt                            978\n",
       "darvocet-n                        978\n",
       "nuvigil                           978\n",
       "restoril                          971\n",
       "copaxone                          971\n",
       "vytorin                           971\n",
       "nitrofurantoin                    971\n",
       "sular                             970\n",
       "allegra-d                         970\n",
       "arava                             970\n",
       "ampicillin                        970\n",
       "symbyax                           970\n",
       "buspar                            970\n",
       "nasacort                          963\n",
       "minoxidil                         963\n",
       "dextrostat                        962\n",
       "ketoconazole                      962\n",
       "frova                             962\n",
       "xanax-xr                          962\n",
       "vaniqa                            962\n",
       "isoniazid                         962\n",
       "pravachol                         962\n",
       "naltrexone                        962\n",
       "actos                             962\n",
       "omnitrope                         962\n",
       "mirena                            962\n",
       "aygestin                          955\n",
       "evoclin                           955\n",
       "cataflam                          955\n",
       "miralax                           955\n",
       "mevacor                           954\n",
       "norvasc                           750\n",
       "botox                             693\n",
       "valium                            638\n",
       "diclofenac                        638\n",
       "zyban                             630\n",
       "metronidazole                     622\n",
       "zocor                             622\n",
       "soma                              606\n",
       "actonel                           598\n",
       "seasonale                         582\n",
       "keppra                            581\n",
       "humira                            581\n",
       "symbicort                         557\n",
       "lortab                            550\n",
       "naprosyn                          541\n",
       "levora                            525\n",
       "tussionex                         525\n",
       "aromasin                          518\n",
       "plendil                           517\n",
       "halcion                           517\n",
       "qvar                              517\n",
       "estrasorb                         510\n",
       "biaxin                            232\n",
       "mobic                             200\n",
       "nasonex                           176\n",
       "tetracycline                      168\n",
       "motrin                            152\n",
       "remeron                           146\n",
       "protonix                          144\n",
       "zantac                            136\n",
       "oxycontin                         136\n",
       "levaquin                          136\n",
       "elidel                            128\n",
       "tirosint                          128\n",
       "hydrochlorothiazide               120\n",
       "requip                            120\n",
       "atenolol                          112\n",
       "advair-diskus                     112\n",
       "lamotrigine                       112\n",
       "mirtazapine                       104\n",
       "alprazolam                        104\n",
       "tylenol                           104\n",
       "innofem                           104\n",
       "zmax                               96\n",
       "evista                             96\n",
       "zofran                             96\n",
       "dispermox                          96\n",
       "flagyl                             88\n",
       "solodyn                            88\n",
       "vivelle-dot                        80\n",
       "hyzaar                             80\n",
       "finacea                            80\n",
       "permapen                           80\n",
       "ritalin                            80\n",
       "vagifem                            80\n",
       "relpax                             72\n",
       "aldara                             72\n",
       "cytomel                            72\n",
       "malarone                           64\n",
       "viagra                             64\n",
       "plavix                             64\n",
       "omnicef                            64\n",
       "ecotrin                            64\n",
       "alendronate                        64\n",
       "micardis                           64\n",
       "reglan                             56\n",
       "ortho-tri-cyclen-lo                56\n",
       "grifulvin-v                        56\n",
       "dilaudid                           56\n",
       "angeliq                            56\n",
       "lithium-carbonate                  56\n",
       "mirapex                            56\n",
       "imodium                            56\n",
       "fioricet                           56\n",
       "adderall-xr                        56\n",
       "premarin-vaginal                   48\n",
       "avodart                            48\n",
       "clarithromycin                     48\n",
       "niacor                             48\n",
       "fluconazole                        48\n",
       "levitra                            48\n",
       "avapro                             48\n",
       "clomid                             48\n",
       "compazine                          48\n",
       "catapres                           48\n",
       "ventolin-hfa                       48\n",
       "latisse                            48\n",
       "amitiza                            48\n",
       "betamethasone                      48\n",
       "galzin                             48\n",
       "nystatin                           48\n",
       "azelex                             48\n",
       "restasis                           48\n",
       "dysport                            48\n",
       "accupril                           40\n",
       "rhinocort                          40\n",
       "elocon                             40\n",
       "azopt                              40\n",
       "clobetasol                         40\n",
       "hydrocortisone                     40\n",
       "phendimetrazine                    40\n",
       "tobramycin                         40\n",
       "ortho-evra                         40\n",
       "prednisolone                       40\n",
       "trimethobenzamide                  40\n",
       "inderal                            40\n",
       "methadone                          40\n",
       "danazol                            40\n",
       "fosamax-plus-d                     40\n",
       "oxybutynin                         40\n",
       "hytrin                             40\n",
       "provera                            40\n",
       "eulexin                            40\n",
       "metoclopramide                     40\n",
       "tarka                              40\n",
       "geodon                             40\n",
       "ketorolac                          40\n",
       "sulindac                           40\n",
       "lo-ovral                           40\n",
       "baraclude                          40\n",
       "fiorinal                           40\n",
       "axert                              40\n",
       "aczone                             40\n",
       "trimethoprim                       40\n",
       "relafen                            32\n",
       "duragesic                          32\n",
       "detrol-la                          32\n",
       "flomax                             32\n",
       "diflucan                           32\n",
       "septra                             32\n",
       "enalapril                          32\n",
       "vasotec                            32\n",
       "tegretol                           32\n",
       "paxil-cr                           32\n",
       "depakote                           24\n",
       "dextroamphetamine                  24\n",
       "seroquel-xr                        24\n",
       "anafranil                          24\n",
       "benicar                            24\n",
       "serzone                            24\n",
       "soltamox                           24\n",
       "oxazepam                           24\n",
       "lopressor                          24\n",
       "fluvoxamine                        24\n",
       "suboxone                           24\n",
       "minocin                            24\n",
       "cozaar                             24\n",
       "coreg                              24\n",
       "ziana                              24\n",
       "divigel                            24\n",
       "lotrel                             24\n",
       "aciphex                            24\n",
       "triphasil                          24\n",
       "benzaclin                          24\n",
       "levothroid                         24\n",
       "ponstel                            24\n",
       "emsam                              24\n",
       "carac                              24\n",
       "tekturna                           16\n",
       "dilantin                           16\n",
       "neoprofen                          16\n",
       "skelaxin                           16\n",
       "zestoretic                         16\n",
       "deltasone                          16\n",
       "propranolol                        16\n",
       "aloprim                            16\n",
       "pilocarpine                        16\n",
       "vivelle                            16\n",
       "periogard                          16\n",
       "lupron                             16\n",
       "clindamycin-topical                16\n",
       "antivert                           16\n",
       "caduet                             16\n",
       "tambocor                           16\n",
       "ultram-er                          16\n",
       "methimazole                        16\n",
       "rebif                              16\n",
       "saizen                             16\n",
       "dexamethasone                      16\n",
       "topicort                           16\n",
       "benadryl                           16\n",
       "dovonex                            16\n",
       "xalatan                            16\n",
       "ceclor                             16\n",
       "dexedrine                          16\n",
       "norpramin                          16\n",
       "clobex                             16\n",
       "temovate                           16\n",
       "metoprolol                         16\n",
       "cyproheptadine                     16\n",
       "climara-pro                        16\n",
       "ortho-novum                        16\n",
       "tequin                             16\n",
       "follistim                          16\n",
       "imuran                             16\n",
       "parlodel                           16\n",
       "toprol-xl                          16\n",
       "spiriva                            16\n",
       "phenergan                          16\n",
       "boniva                             16\n",
       "atacand                            16\n",
       "delestrogen                        16\n",
       "fortaz                             16\n",
       "ritalin-la                         16\n",
       "dostinex                           16\n",
       "morphine                           16\n",
       "triamcinolone                      16\n",
       "buprenorphine                      16\n",
       "efudex                             16\n",
       "xyzal                              16\n",
       "actiq                              16\n",
       "rifadin                             8\n",
       "bisoprolol                          8\n",
       "zyvox                               8\n",
       "arthrotec                           8\n",
       "dapsone                             8\n",
       "lybrel                              8\n",
       "risperdal-consta                    8\n",
       "pamelor                             8\n",
       "vesicare                            8\n",
       "inspra                              8\n",
       "progesterone                        8\n",
       "metformin-extended-release          8\n",
       "vigamox                             8\n",
       "vistaril                            8\n",
       "levetiracetam                       8\n",
       "erythra-derm                        8\n",
       "estring                             8\n",
       "tapazole                            8\n",
       "bactroban                           8\n",
       "cardura                             8\n",
       "amerge                              8\n",
       "baciim                              8\n",
       "asmanex                             8\n",
       "femara                              8\n",
       "accolate                            8\n",
       "detrol                              8\n",
       "warfarin                            8\n",
       "glucophage-xr                       8\n",
       "vicoprofen                          8\n",
       "sanctura-xr                         8\n",
       "kenalog                             8\n",
       "nardil                              8\n",
       "pepcid                              8\n",
       "nasacort-aq                         8\n",
       "lotronex                            8\n",
       "bystolic                            8\n",
       "cefzil                              8\n",
       "azor                                8\n",
       "zovirax-topical                     8\n",
       "omacor                              8\n",
       "proloprim                           8\n",
       "quibron-t                           8\n",
       "lidocaine                           8\n",
       "lodine                              8\n",
       "estrostep-fe                        8\n",
       "ziac                                8\n",
       "nizoral                             8\n",
       "diltiazem                           8\n",
       "corgard                             8\n",
       "lac-hydrin                          8\n",
       "cardura-xl                          8\n",
       "fentanyl                            8\n",
       "benicar-hct                         8\n",
       "azasan                              8\n",
       "locoid-lipocream                    8\n",
       "hydrocodone-and-acetaminophen       8\n",
       "atripla                             8\n",
       "penicillin-v                        8\n",
       "prochlorperazine                    8\n",
       "betaseron                           8\n",
       "tofranil-pm                         8\n",
       "lidex                               8\n",
       "enablex                             8\n",
       "vioxx                               8\n",
       "meperidine                          8\n",
       "polymyxin-b                         8\n",
       "nizoral-shampoo                     8\n",
       "penlac                              8\n",
       "trilipix                            8\n",
       "dicyclomine                         8\n",
       "desonide                            8\n",
       "adcirca                             8\n",
       "femhrt                              8\n",
       "exelon                              8\n",
       "lasix                               8\n",
       "elmiron                             8\n",
       "trental                             8\n",
       "trileptal                           8\n",
       "gonal-f-rff                         8\n",
       "nasarel                             8\n",
       "mercaptopurine                      8\n",
       "flovent                             8\n",
       "aralen                              8\n",
       "metrolotion                         8\n",
       "hyoscyamine                         8\n",
       "fosinopril                          8\n",
       "alesse                              8\n",
       "prograf                             8\n",
       "amphetamine                         8\n",
       "medroxyprogesterone                 8\n",
       "doxepin                             8\n",
       "ribavirin                           8\n",
       "haldol                              8\n",
       "depakene                            8\n",
       "oxycodone-and-acetaminophen         8\n",
       "androgel                            8\n",
       "lantus                              8\n",
       "periostat                           8\n",
       "proair-hfa                          8\n",
       "bactrim-ds                          8\n",
       "arimidex                            8\n",
       "Name: DRUG NAME, dtype: int64"
      ]
     },
     "execution_count": 47,
     "metadata": {},
     "output_type": "execute_result"
    }
   ],
   "source": [
    "data['DRUG NAME'].value_counts()"
   ]
  },
  {
   "cell_type": "markdown",
   "metadata": {},
   "source": [
    "## BIVARIATE ANALYSIS"
   ]
  },
  {
   "cell_type": "code",
   "execution_count": 51,
   "metadata": {},
   "outputs": [],
   "source": [
    "# GENDER VS AGE"
   ]
  },
  {
   "cell_type": "code",
   "execution_count": 52,
   "metadata": {},
   "outputs": [
    {
     "name": "stdout",
     "output_type": "stream",
     "text": [
      "GENDER      F      M\n",
      "AGE                 \n",
      "10-14     305    220\n",
      "15-19    3808   2629\n",
      "20-24   23706  16151\n",
      "25-29   28791  19508\n",
      "30-34   25547  17271\n",
      "35-39   33062  22610\n",
      "40-44   30158  20561\n",
      "45-49   26810  18413\n",
      "50-54   34139  23258\n",
      "55-59   15972  11051\n",
      "60-64   12092   8256\n",
      "65-69    2620   1792\n",
      "70-74     709    501\n",
      "75+         1      1\n"
     ]
    },
    {
     "data": {
      "image/png": "[encoded data removed]",
      "text/plain": [
       "<Figure size 2000x1000 with 1 Axes>"
      ]
     },
     "metadata": {},
     "output_type": "display_data"
    }
   ],
   "source": [
    "age_groups = ['0-4', '5-9', '10-14', '15-19', '20-24', '25-29', '30-34', '35-39', '40-44', '45-49', '50-54', '55-59', '60-64', '65-69', '70-74', '75+']\n",
    "\n",
    "# Create a contingency table with age groups\n",
    "contingency_table = pd.crosstab(pd.cut(data['AGE'], bins=range(0, 81, 5), labels=age_groups), data['GENDER'])\n",
    "\n",
    "print(contingency_table)\n",
    "\n",
    "# Plot the contingency table\n",
    "contingency_table.plot(kind='bar', figsize=(20, 10))\n",
    "plt.xlabel('Age Group')\n",
    "plt.ylabel('Count')\n",
    "plt.legend(title='Age Group')\n",
    "plt.show()"
   ]
  },
  {
   "cell_type": "code",
   "execution_count": 53,
   "metadata": {},
   "outputs": [],
   "source": [
    "# GENDER VS SIDE EFFECTS"
   ]
  },
  {
   "cell_type": "code",
   "execution_count": 55,
   "metadata": {},
   "outputs": [
    {
     "data": {
      "image/png": "[encoded data removed]",
      "text/plain": [
       "<Figure size 640x480 with 1 Axes>"
      ]
     },
     "metadata": {},
     "output_type": "display_data"
    }
   ],
   "source": [
    "sns.countplot(x='SIDE EFFECTS', hue='GENDER', data=data)\n",
    "plt.xlabel('SIDE EFFECTS')\n",
    "plt.ylabel('Count')\n",
    "plt.xticks(rotation=90)\n",
    "plt.title('Gender VS Side effects')\n",
    "plt.show()"
   ]
  },
  {
   "cell_type": "code",
   "execution_count": 56,
   "metadata": {
    "scrolled": false
   },
   "outputs": [
    {
     "data": {
      "image/png": "[encoded data removed]",
      "text/plain": [
       "<Figure size 640x480 with 1 Axes>"
      ]
     },
     "metadata": {},
     "output_type": "display_data"
    }
   ],
   "source": [
    "\n",
    "sns.countplot(x='SIDE EFFECTS', hue='GENDER', data=data)\n",
    "plt.xlabel('SIDE EFFECTS')\n",
    "plt.ylabel('Count')\n",
    "plt.xticks(rotation=90)\n",
    "plt.title('Gender VS Side effects')\n",
    "\n",
    "# Add percentages above the bars\n",
    "total = len(data)  # Total number of data points\n",
    "ax = plt.gca()\n",
    "\n",
    "for p in ax.patches:\n",
    "    height = p.get_height()\n",
    "    ax.annotate(f'{height/total:.1%}',  # Calculate percentage\n",
    "                (p.get_x() + p.get_width() / 2, height),  # Position of the annotation\n",
    "                ha='center', va='bottom')\n",
    "\n",
    "plt.show()\n"
   ]
  },
  {
   "cell_type": "code",
   "execution_count": null,
   "metadata": {},
   "outputs": [],
   "source": [
    "# GENDER VS RACE"
   ]
  },
  {
   "cell_type": "code",
   "execution_count": 58,
   "metadata": {},
   "outputs": [
    {
     "data": {
      "image/png": "[encoded data removed]",
      "text/plain": [
       "<Figure size 640x480 with 1 Axes>"
      ]
     },
     "metadata": {},
     "output_type": "display_data"
    }
   ],
   "source": [
    "sns.countplot(x='RACE', hue='GENDER', data=data)\n",
    "plt.xlabel('RACE')\n",
    "plt.ylabel('Count')\n",
    "plt.title('GENDER VS RACE')\n",
    "plt.legend(title='GENDER')\n",
    "plt.xticks(rotation=90)\n",
    "plt.show()"
   ]
  },
  {
   "cell_type": "code",
   "execution_count": 68,
   "metadata": {},
   "outputs": [
    {
     "data": {
      "image/png": "[encoded data removed]",
      "text/plain": [
       "<Figure size 1200x1200 with 1 Axes>"
      ]
     },
     "metadata": {},
     "output_type": "display_data"
    }
   ],
   "source": [
    "plt.figure(figsize=(12, 12))\n",
    "sns.set_style(\"white\")  # Remove gridlines\n",
    "sns.countplot(x='RACE', hue='GENDER', data=data)\n",
    "\n",
    "plt.xlabel('RACE')\n",
    "plt.ylabel('Count')\n",
    "plt.xticks(rotation=90)\n",
    "plt.title('Gender VS RACE')\n",
    "\n",
    "# Add percentages above the bars\n",
    "total = len(data)  # Total number of data points\n",
    "ax = plt.gca()\n",
    "for p in ax.patches:\n",
    "    height = p.get_height()\n",
    "    ax.annotate(f'{height/total:.1%}',  # Calculate percentage\n",
    "                (p.get_x() + p.get_width() / 2, height),  # Position of the annotation\n",
    "                ha='center', va='bottom')\n",
    "\n",
    "plt.show()"
   ]
  },
  {
   "cell_type": "code",
   "execution_count": 80,
   "metadata": {},
   "outputs": [],
   "source": [
    "# GENDER VS DRUG NAME"
   ]
  },
  {
   "cell_type": "code",
   "execution_count": 83,
   "metadata": {},
   "outputs": [
    {
     "name": "stdout",
     "output_type": "stream",
     "text": [
      "GENDER                            F     M\n",
      "DRUG NAME                                \n",
      "abilify                         597   413\n",
      "accolate                          4     4\n",
      "accupril                         24    16\n",
      "accutane                       1398   945\n",
      "aciphex                          13    11\n",
      "actiq                            10     6\n",
      "actonel                         350   248\n",
      "actos                           577   385\n",
      "acyclovir                      1456  1004\n",
      "aczone                           25    15\n",
      "adcirca                           2     6\n",
      "adderall                        998   673\n",
      "adderall-xr                      30    26\n",
      "adipex-p                       1073   726\n",
      "advair-diskus                    67    45\n",
      "advair-hfa                      619   400\n",
      "albuterol                      1819  1205\n",
      "aldactone                       582   405\n",
      "aldara                           39    33\n",
      "alendronate                      43    21\n",
      "alesse                            4     4\n",
      "allegra                         703   475\n",
      "allegra-d                       572   398\n",
      "aloprim                          10     6\n",
      "alprazolam                       62    42\n",
      "ambien                         3379  2313\n",
      "ambien-cr                       663   420\n",
      "amerge                            4     4\n",
      "amitiza                          31    17\n",
      "amoxil                         2368  1625\n",
      "amphetamine                       6     2\n",
      "ampicillin                      577   393\n",
      "anafranil                        15     9\n",
      "androgel                          4     4\n",
      "angeliq                          35    21\n",
      "antivert                         12     4\n",
      "aralen                            6     2\n",
      "arava                           582   388\n",
      "aricept                         614   421\n",
      "arimidex                          6     2\n",
      "armour-thyroid                  716   471\n",
      "aromasin                        309   209\n",
      "arthrotec                         5     3\n",
      "asacol                          599   420\n",
      "asmanex                           2     6\n",
      "atacand                           8     8\n",
      "atarax                          620   398\n",
      "atenolol                         67    45\n",
      "ativan                         1234   843\n",
      "atripla                           4     4\n",
      "augmentin                      2675  1853\n",
      "avage                          1172   793\n",
      "avapro                           25    23\n",
      "avelox                          605   422\n",
      "avita                          1255   901\n",
      "avodart                          31    17\n",
      "axert                            24    16\n",
      "aygestin                        574   381\n",
      "azasan                            7     1\n",
      "azelex                           34    14\n",
      "azopt                            29    11\n",
      "azor                              4     4\n",
      "baciim                            2     6\n",
      "baclofen                       1152   781\n",
      "bactrim-ds                        5     3\n",
      "bactroban                         5     3\n",
      "baraclude                        26    14\n",
      "benadryl                          7     9\n",
      "benicar                          14    10\n",
      "benicar-hct                       3     5\n",
      "benzaclin                        14    10\n",
      "betamethasone                    32    16\n",
      "betaseron                         6     2\n",
      "biaxin                          142    90\n",
      "bisoprolol                        4     4\n",
      "boniva                           10     6\n",
      "botox                           409   284\n",
      "buprenorphine                    10     6\n",
      "buspar                          575   395\n",
      "byetta                         1159   790\n",
      "bystolic                          6     2\n",
      "caduet                           11     5\n",
      "carac                            10    14\n",
      "cardura                           3     5\n",
      "cardura-xl                        4     4\n",
      "cataflam                        583   372\n",
      "catapres                         30    18\n",
      "ceclor                           10     6\n",
      "cefzil                            4     4\n",
      "celebrex                       1278   847\n",
      "celexa                         1253   855\n",
      "chantix                        3079  2103\n",
      "cialis                          676   447\n",
      "cipro                           776   498\n",
      "citalopram                     3295  2265\n",
      "clarinex                       1115   810\n",
      "claripel-cream                  645   421\n",
      "clarithromycin                   30    18\n",
      "claritin                       1282   874\n",
      "cleocin                         598   413\n",
      "climara                         925   650\n",
      "climara-pro                       9     7\n",
      "clindamycin                     607   427\n",
      "clindamycin-topical               8     8\n",
      "clobetasol                       24    16\n",
      "clobex                            9     7\n",
      "clomid                           28    20\n",
      "clonazepam                      894   658\n",
      "compazine                        30    18\n",
      "concerta                        950   665\n",
      "copaxone                        580   391\n",
      "coreg                            13    11\n",
      "corgard                           6     2\n",
      "cosopt                          577   401\n",
      "coumadin                        607   419\n",
      "cozaar                           10    14\n",
      "crestor                         673   441\n",
      "cymbalta                       1764  1194\n",
      "cyproheptadine                    8     8\n",
      "cytomel                          45    27\n",
      "danazol                          27    13\n",
      "dapsone                           3     5\n",
      "darvocet-n                      569   409\n",
      "delestrogen                       9     7\n",
      "deltasone                         7     9\n",
      "depakene                          6     2\n",
      "depakote                         15     9\n",
      "depo-provera                    643   415\n",
      "desonide                          4     4\n",
      "desyrel                         628   430\n",
      "detrol                            6     2\n",
      "detrol-la                        18    14\n",
      "dexamethasone                    10     6\n",
      "dexedrine                         8     8\n",
      "dextroamphetamine                14    10\n",
      "dextrostat                      571   391\n",
      "diazepam                        627   431\n",
      "diclofenac                      374   264\n",
      "dicyclomine                       3     5\n",
      "differin                       3096  2053\n",
      "diflucan                         15    17\n",
      "dilantin                          7     9\n",
      "dilaudid                         37    19\n",
      "diltiazem                         3     5\n",
      "diovan                          591   396\n",
      "dispermox                        54    42\n",
      "ditropan                        625   417\n",
      "divigel                          13    11\n",
      "doryx                           591   419\n",
      "dostinex                          8     8\n",
      "dovonex                           8     8\n",
      "doxepin                           4     4\n",
      "doxycycline                    2195  1499\n",
      "duac                            574   405\n",
      "duragesic                        16    16\n",
      "dysport                          33    15\n",
      "ecotrin                          38    26\n",
      "effexor                        3143  2133\n",
      "effexor-xr                     1920  1328\n",
      "efudex                            6    10\n",
      "elavil                         2116  1480\n",
      "elidel                           73    55\n",
      "elmiron                           5     3\n",
      "elocon                           27    13\n",
      "emsam                            13    11\n",
      "enablex                           2     6\n",
      "enalapril                        17    15\n",
      "enbrel                          690   448\n",
      "erythra-derm                      3     5\n",
      "erythromycin                    591   403\n",
      "estrace                         594   416\n",
      "estrasorb                       293   217\n",
      "estratest                      1135   797\n",
      "estring                           4     4\n",
      "estrostep-fe                      4     4\n",
      "eulexin                          29    11\n",
      "evista                           57    39\n",
      "evoclin                         570   385\n",
      "exelon                            3     5\n",
      "femara                            6     2\n",
      "femhrt                            4     4\n",
      "femring                         581   405\n",
      "fentanyl                          5     3\n",
      "fexofenadine                   1141   799\n",
      "finacea                          51    29\n",
      "fioricet                         37    19\n",
      "fiorinal                         22    18\n",
      "flagyl                           53    35\n",
      "flexeril                       1004   723\n",
      "flomax                           19    13\n",
      "flonase                         771   519\n",
      "flovent                           3     5\n",
      "fluconazole                      31    17\n",
      "fluvoxamine                      14    10\n",
      "follistim                        10     6\n",
      "fortaz                           10     6\n",
      "fosamax                        1215   845\n",
      "fosamax-plus-d                   28    12\n",
      "fosinopril                        6     2\n",
      "frova                           569   393\n",
      "galzin                           27    21\n",
      "geodon                           28    12\n",
      "glucophage                      591   411\n",
      "glucophage-xr                     4     4\n",
      "gonal-f-rff                       6     2\n",
      "grifulvin-v                      36    20\n",
      "halcion                         306   211\n",
      "haldol                            4     4\n",
      "humira                          336   245\n",
      "hydrochlorothiazide              79    41\n",
      "hydrocodone-and-acetaminophen     4     4\n",
      "hydrocortisone                   27    13\n",
      "hyoscyamine                       3     5\n",
      "hytrin                           25    15\n",
      "hyzaar                           52    28\n",
      "imitrex                        1100   739\n",
      "imodium                          32    24\n",
      "imuran                            9     7\n",
      "inderal                          18    22\n",
      "innofem                          65    39\n",
      "inspra                            3     5\n",
      "isoniazid                       584   378\n",
      "keflex                          945   631\n",
      "kenalog                           4     4\n",
      "keppra                          330   251\n",
      "ketoconazole                    565   397\n",
      "ketorolac                        23    17\n",
      "klaron                          597   398\n",
      "klonopin                        728   498\n",
      "lac-hydrin                        4     4\n",
      "lamictal                       3567  2478\n",
      "lamisil                        1841  1222\n",
      "lamotrigine                      65    47\n",
      "lantus                            6     2\n",
      "lasix                             5     3\n",
      "latisse                          25    23\n",
      "levaquin                         77    59\n",
      "levetiracetam                     3     5\n",
      "levitra                          31    17\n",
      "levora                          317   208\n",
      "levothroid                       14    10\n",
      "levoxyl                        3554  2404\n",
      "lexapro                        3377  2314\n",
      "lidex                             4     4\n",
      "lidocaine                         5     3\n",
      "lipitor                        1659  1135\n",
      "lithium-carbonate                35    21\n",
      "lo-ovral                         25    15\n",
      "locoid-lipocream                  5     3\n",
      "lodine                            6     2\n",
      "lopressor                        16     8\n",
      "lorazepam                      1165   823\n",
      "lortab                          325   225\n",
      "lotrel                           17     7\n",
      "lotronex                          6     2\n",
      "lumigan                         637   413\n",
      "lunesta                         950   697\n",
      "lupron                           10     6\n",
      "lybrel                            3     5\n",
      "lyrica                         1343   901\n",
      "macrobid                        622   436\n",
      "malarone                         43    21\n",
      "maxalt                          601   417\n",
      "medroxyprogesterone               4     4\n",
      "meperidine                        6     2\n",
      "mercaptopurine                    5     3\n",
      "meridia                         651   455\n",
      "metformin                      1568  1090\n",
      "metformin-extended-release        5     3\n",
      "methadone                        22    18\n",
      "methimazole                       7     9\n",
      "methotrexate                   1777  1229\n",
      "metoclopramide                   24    16\n",
      "metoprolol                       12     4\n",
      "metrogel                       2090  1420\n",
      "metrolotion                       6     2\n",
      "metronidazole                   362   260\n",
      "mevacor                         569   385\n",
      "micardis                         43    21\n",
      "minocin                          12    12\n",
      "minocycline                    1350   895\n",
      "minoxidil                       578   385\n",
      "miralax                         564   391\n",
      "mirapex                          34    22\n",
      "mirena                          593   369\n",
      "mirtazapine                      64    40\n",
      "mobic                           132    68\n",
      "morphine                          8     8\n",
      "motrin                           90    62\n",
      "naltrexone                      570   392\n",
      "naprosyn                        325   216\n",
      "naproxen                        662   476\n",
      "nardil                            3     5\n",
      "nasacort                        567   396\n",
      "nasacort-aq                       4     4\n",
      "nasarel                           4     4\n",
      "nasonex                         114    62\n",
      "neoprofen                        10     6\n",
      "neurontin                      2513  1712\n",
      "nexium                         3551  2478\n",
      "niacor                           32    16\n",
      "niaspan                         657   410\n",
      "nitrofurantoin                  591   380\n",
      "nizoral                           4     4\n",
      "nizoral-shampoo                   6     2\n",
      "nolvadex                        881   599\n",
      "noroxin                         594   416\n",
      "norpramin                        11     5\n",
      "nortriptyline                   613   406\n",
      "norvasc                         451   299\n",
      "nuvaring                       1555  1071\n",
      "nuvigil                         583   395\n",
      "nystatin                         36    12\n",
      "omacor                            5     3\n",
      "omnicef                          37    27\n",
      "omnitrope                       588   374\n",
      "oracea                          623   435\n",
      "ortho-evra                       27    13\n",
      "ortho-novum                      11     5\n",
      "ortho-tri-cyclen                995   686\n",
      "ortho-tri-cyclen-lo              36    20\n",
      "oxazepam                         16     8\n",
      "oxybutynin                       26    14\n",
      "oxycodone                       647   443\n",
      "oxycodone-and-acetaminophen       3     5\n",
      "oxycontin                        85    51\n",
      "pamelor                           4     4\n",
      "panixine-disperdose            1720  1167\n",
      "parlodel                         11     5\n",
      "paxil                          3725  2544\n",
      "paxil-cr                         18    14\n",
      "penicillin-v                      4     4\n",
      "penlac                            4     4\n",
      "pentasa                        1150   807\n",
      "pepcid                            6     2\n",
      "percocet                        681   433\n",
      "periogard                         6    10\n",
      "periostat                         4     4\n",
      "permapen                         54    26\n",
      "phendimetrazine                  28    12\n",
      "phenergan                         9     7\n",
      "pilocarpine                      11     5\n",
      "plavix                           35    29\n",
      "plendil                         309   208\n",
      "polymyxin-b                       3     5\n",
      "ponstel                          11    13\n",
      "pravachol                       579   383\n",
      "prednisolone                     21    19\n",
      "prednisone                     1851  1251\n",
      "premarin                        988   676\n",
      "premarin-vaginal                 28    20\n",
      "prempro                         974   666\n",
      "prevacid                       1868  1243\n",
      "prilosec                        689   481\n",
      "prinivil                        775   523\n",
      "pristiq                         588   422\n",
      "proair-hfa                        4     4\n",
      "prochlorperazine                  5     3\n",
      "progesterone                      4     4\n",
      "prograf                           3     5\n",
      "proloprim                         4     4\n",
      "prometrium                     1162   763\n",
      "propecia                       2336  1636\n",
      "propranolol                       9     7\n",
      "proquin-xr                      862   633\n",
      "proscar                         681   425\n",
      "protonix                         81    63\n",
      "protopic                       1184   764\n",
      "provera                          22    18\n",
      "provigil                       2987  2064\n",
      "prozac                         3293  2240\n",
      "quibron-t                         5     3\n",
      "qvar                            295   222\n",
      "ranitidine                      581   398\n",
      "rebif                             9     7\n",
      "reglan                           34    22\n",
      "relafen                          20    12\n",
      "relpax                           50    22\n",
      "remeron                          93    53\n",
      "remicade                       1249   860\n",
      "renova                         1320   917\n",
      "requip                           72    48\n",
      "restasis                         28    20\n",
      "restoril                        581   390\n",
      "retin-a                        3179  2161\n",
      "retin-a-micro                  2198  1511\n",
      "rhinocort                        25    15\n",
      "ribavirin                         6     2\n",
      "rifadin                           3     5\n",
      "risperdal                       611   423\n",
      "risperdal-consta                  5     3\n",
      "ritalin                          45    35\n",
      "ritalin-la                       12     4\n",
      "saizen                           10     6\n",
      "sanctura-xr                       5     3\n",
      "sarafem                         643   448\n",
      "seasonale                       338   244\n",
      "seasonique                     1866  1237\n",
      "selegiline                      604   414\n",
      "septra                           17    15\n",
      "seroquel                       1959  1344\n",
      "seroquel-xr                      14    10\n",
      "serzone                          14    10\n",
      "singulair                      1084   700\n",
      "skelaxin                          8     8\n",
      "solodyn                          54    34\n",
      "soltamox                         10    14\n",
      "soma                            369   237\n",
      "sonata                         1136   774\n",
      "sotret                          630   421\n",
      "spiriva                          11     5\n",
      "spironolactone                  710   476\n",
      "strattera                      1802  1228\n",
      "suboxone                         12    12\n",
      "sular                           576   394\n",
      "sulfasalazine                   584   395\n",
      "sulindac                         25    15\n",
      "sumatriptan                     597   414\n",
      "symbicort                       319   238\n",
      "symbyax                         571   399\n",
      "synthroid                      2298  1540\n",
      "tambocor                         12     4\n",
      "tamiflu                         607   411\n",
      "tapazole                          3     5\n",
      "tarka                            28    12\n",
      "tazorac                        1007   688\n",
      "tegretol                         19    13\n",
      "tekturna                          9     7\n",
      "temovate                         10     6\n",
      "tenormin                       1728  1174\n",
      "tequin                            9     7\n",
      "tetracycline                    104    64\n",
      "tirosint                         78    50\n",
      "tobramycin                       26    14\n",
      "tofranil-pm                       5     3\n",
      "topamax                        2750  1867\n",
      "topicort                         11     5\n",
      "toprol-xl                        11     5\n",
      "toradol                         571   415\n",
      "tramadol                       1920  1310\n",
      "trazodone                       611   431\n",
      "trental                           6     2\n",
      "tri-luma                       1776  1248\n",
      "triamcinolone                    12     4\n",
      "triaz                           574   404\n",
      "trileptal                         4     4\n",
      "trilipix                          3     5\n",
      "trimethobenzamide                29    11\n",
      "trimethoprim                     27    13\n",
      "triphasil                        17     7\n",
      "tussionex                       297   228\n",
      "tylenol                          65    39\n",
      "ultracet                        591   396\n",
      "ultram                         2411  1631\n",
      "ultram-er                        11     5\n",
      "vagifem                          49    31\n",
      "valium                          369   269\n",
      "valtrex                        1381   951\n",
      "vaniqa                          551   411\n",
      "vasotec                          17    15\n",
      "ventolin-hfa                     29    19\n",
      "vesicare                          5     3\n",
      "viagra                           39    25\n",
      "vicodin                        1243   849\n",
      "vicoprofen                        5     3\n",
      "vigamox                           3     5\n",
      "vioxx                             5     3\n",
      "vistaril                          2     6\n",
      "vivelle                          10     6\n",
      "vivelle-dot                      48    32\n",
      "voltaren                       1754  1229\n",
      "vytorin                         578   393\n",
      "vyvanse                        1613  1101\n",
      "warfarin                          3     5\n",
      "wellbutrin                     1967  1329\n",
      "wellbutrin-sr                  1527  1051\n",
      "wellbutrin-xl                  1927  1328\n",
      "xalatan                          10     6\n",
      "xanax                          1293   880\n",
      "xanax-xr                        588   374\n",
      "xenical                         636   414\n",
      "xyrem                           645   445\n",
      "xyzal                             7     9\n",
      "yasmin                         1300   848\n",
      "zantac                           89    47\n",
      "zegerid                        1771  1204\n",
      "zestoretic                       10     6\n",
      "ziac                              5     3\n",
      "ziana                            17     7\n",
      "zithromax                       667   463\n",
      "zmax                             53    43\n",
      "zocor                           372   250\n",
      "zofran                           53    43\n",
      "zoloft                         1538  1002\n",
      "zomig                           653   461\n",
      "zovirax                        1767  1175\n",
      "zovirax-topical                   5     3\n",
      "zyban                           363   267\n",
      "zyprexa                         604   438\n",
      "zyrtec                         1842  1261\n",
      "zyrtec-d                        875   612\n",
      "zyvox                             4     4\n"
     ]
    }
   ],
   "source": [
    "contingency_table = pd.crosstab(data['DRUG NAME'], data['GENDER'])\n",
    "print(contingency_table)\n",
    "\n"
   ]
  },
  {
   "cell_type": "code",
   "execution_count": 93,
   "metadata": {},
   "outputs": [],
   "source": [
    "# AGE VS DRUG NAME"
   ]
  },
  {
   "cell_type": "code",
   "execution_count": 92,
   "metadata": {},
   "outputs": [
    {
     "name": "stderr",
     "output_type": "stream",
     "text": [
      "C:\\Users\\user\\AppData\\Local\\Temp\\ipykernel_5984\\3605637245.py:10: FutureWarning: \n",
      "\n",
      "The `ci` parameter is deprecated. Use `errorbar=None` for the same effect.\n",
      "\n",
      "  sns.barplot(x='DRUG NAME', y='AGE', data=filtered_df,ci= None)\n"
     ]
    },
    {
     "data": {
      "image/png": "[encoded data removed]",
      "text/plain": [
       "<Figure size 640x480 with 1 Axes>"
      ]
     },
     "metadata": {},
     "output_type": "display_data"
    }
   ],
   "source": [
    "# Filter the dataframe to include only the 5 DRUG NAME\n",
    "\n",
    "drugname_counts = data['DRUG NAME'].value_counts()\n",
    "sorted_drugname = drugname_counts.sort_values(ascending=False)\n",
    "top_5_drugname= sorted_drugname.head(5)\n",
    "top_5_drug_names = top_5_drugname.index.tolist()\n",
    "filtered_df = data[data['DRUG NAME'].isin(top_5_drug_names)]\n",
    "\n",
    "# Create a bivariate plot of Avg_Account_Balance column with Region_Code\n",
    "sns.barplot(x='DRUG NAME', y='AGE', data=filtered_df,ci= None)\n",
    "\n",
    "# Set the title and labels for the plot\n",
    "plt.title('Bivariate Analysis of AGE and DRUG NAME (Top 5)')\n",
    "plt.xlabel('DRUG NAME')\n",
    "plt.ylabel('AGE')\n",
    "\n",
    "\n",
    "\n",
    "# Display the plot\n",
    "plt.show()"
   ]
  },
  {
   "cell_type": "code",
   "execution_count": null,
   "metadata": {},
   "outputs": [],
   "source": []
  }
 ],
 "metadata": {
  "accelerator": "GPU",
  "colab": {
   "gpuType": "T4",
   "provenance": []
  },
  "kernelspec": {
   "display_name": "Python 3 (ipykernel)",
   "language": "python",
   "name": "python3"
  },
  "language_info": {
   "codemirror_mode": {
    "name": "ipython",
    "version": 3
   },
   "file_extension": ".py",
   "mimetype": "text/x-python",
   "name": "python",
   "nbconvert_exporter": "python",
   "pygments_lexer": "ipython3",
   "version": "3.10.9"
  }
 },
 "nbformat": 4,
 "nbformat_minor": 1
}
