{
  "cells": [
    {
      "cell_type": "markdown",
      "metadata": {
        "id": "0FP-tuE_mN_n"
      },
      "source": [
        "**IMPORTING NECESSARY LIBRARIES**"
      ]
    },
    {
      "cell_type": "code",
      "execution_count": 1,
      "metadata": {
        "id": "Y4uDAPgHEn-s"
      },
      "outputs": [],
      "source": [
        "import pandas as pd\n",
        "import numpy as np\n",
        "import matplotlib.pyplot as plt\n",
        "import seaborn as sns"
      ]
    },
    {
      "cell_type": "markdown",
      "metadata": {
        "id": "yfKTGe-nmYu8"
      },
      "source": [
        "***IMPORTING THE DATASET ***"
      ]
    },
    {
      "cell_type": "code",
      "execution_count": 2,
      "metadata": {
        "id": "KgsN-2EtOPo8"
      },
      "outputs": [],
      "source": [
        "file_id = '19omKVCJ1sEvlw1ZmSpyNi-SZS2YZuHme'\n",
        "file_url = f'https://drive.google.com/uc?id={file_id}'\n",
        "data = pd.read_csv(file_url)"
      ]
    },
    {
      "cell_type": "code",
      "execution_count": 3,
      "metadata": {
        "colab": {
          "base_uri": "https://localhost:8080/",
          "height": 424
        },
        "id": "jluEmhyzGiY1",
        "outputId": "e28b2a45-ae5b-4ee9-89f4-529657ac44f3"
      },
      "outputs": [
        {
          "output_type": "execute_result",
          "data": {
            "text/plain": [
              "         NAME GENDER DRUG NAME   AGE             RACE  \\\n",
              "0       Aaban      M   topamax  41.0            White   \n",
              "1       Aaban      M     zocor  53.0  Hispanic, White   \n",
              "2       Aabha      F   tazorac  31.0            White   \n",
              "3       Aabha      F  voltaren  44.0            White   \n",
              "4       Aabid      M  tramadol  24.0            White   \n",
              "...       ...    ...       ...   ...              ...   \n",
              "399995   TRUE      M   lamisil  50.0            White   \n",
              "399996   TRUE      M    klaron  55.0  Hispanic, White   \n",
              "399997   TRUE      M    celexa  57.0            Other   \n",
              "399998   TRUE      F    zoloft  59.0            White   \n",
              "399999   TRUE      M  prilosec  65.0            White   \n",
              "\n",
              "                         SIDE EFFECTS  \n",
              "0                   Mild Side Effects  \n",
              "1       Extremely Severe Side Effects  \n",
              "2                   Mild Side Effects  \n",
              "3                 Severe Side Effects  \n",
              "4                     No Side Effects  \n",
              "...                               ...  \n",
              "399995            Severe Side Effects  \n",
              "399996                No Side Effects  \n",
              "399997            Severe Side Effects  \n",
              "399998                No Side Effects  \n",
              "399999              Mild Side Effects  \n",
              "\n",
              "[400000 rows x 6 columns]"
            ],
            "text/html": [
              "\n",
              "  <div id=\"df-51451d78-69d3-4505-95a9-df565cccdd1d\" class=\"colab-df-container\">\n",
              "    <div>\n",
              "<style scoped>\n",
              "    .dataframe tbody tr th:only-of-type {\n",
              "        vertical-align: middle;\n",
              "    }\n",
              "\n",
              "    .dataframe tbody tr th {\n",
              "        vertical-align: top;\n",
              "    }\n",
              "\n",
              "    .dataframe thead th {\n",
              "        text-align: right;\n",
              "    }\n",
              "</style>\n",
              "<table border=\"1\" class=\"dataframe\">\n",
              "  <thead>\n",
              "    <tr style=\"text-align: right;\">\n",
              "      <th></th>\n",
              "      <th>NAME</th>\n",
              "      <th>GENDER</th>\n",
              "      <th>DRUG NAME</th>\n",
              "      <th>AGE</th>\n",
              "      <th>RACE</th>\n",
              "      <th>SIDE EFFECTS</th>\n",
              "    </tr>\n",
              "  </thead>\n",
              "  <tbody>\n",
              "    <tr>\n",
              "      <th>0</th>\n",
              "      <td>Aaban</td>\n",
              "      <td>M</td>\n",
              "      <td>topamax</td>\n",
              "      <td>41.0</td>\n",
              "      <td>White</td>\n",
              "      <td>Mild Side Effects</td>\n",
              "    </tr>\n",
              "    <tr>\n",
              "      <th>1</th>\n",
              "      <td>Aaban</td>\n",
              "      <td>M</td>\n",
              "      <td>zocor</td>\n",
              "      <td>53.0</td>\n",
              "      <td>Hispanic, White</td>\n",
              "      <td>Extremely Severe Side Effects</td>\n",
              "    </tr>\n",
              "    <tr>\n",
              "      <th>2</th>\n",
              "      <td>Aabha</td>\n",
              "      <td>F</td>\n",
              "      <td>tazorac</td>\n",
              "      <td>31.0</td>\n",
              "      <td>White</td>\n",
              "      <td>Mild Side Effects</td>\n",
              "    </tr>\n",
              "    <tr>\n",
              "      <th>3</th>\n",
              "      <td>Aabha</td>\n",
              "      <td>F</td>\n",
              "      <td>voltaren</td>\n",
              "      <td>44.0</td>\n",
              "      <td>White</td>\n",
              "      <td>Severe Side Effects</td>\n",
              "    </tr>\n",
              "    <tr>\n",
              "      <th>4</th>\n",
              "      <td>Aabid</td>\n",
              "      <td>M</td>\n",
              "      <td>tramadol</td>\n",
              "      <td>24.0</td>\n",
              "      <td>White</td>\n",
              "      <td>No Side Effects</td>\n",
              "    </tr>\n",
              "    <tr>\n",
              "      <th>...</th>\n",
              "      <td>...</td>\n",
              "      <td>...</td>\n",
              "      <td>...</td>\n",
              "      <td>...</td>\n",
              "      <td>...</td>\n",
              "      <td>...</td>\n",
              "    </tr>\n",
              "    <tr>\n",
              "      <th>399995</th>\n",
              "      <td>TRUE</td>\n",
              "      <td>M</td>\n",
              "      <td>lamisil</td>\n",
              "      <td>50.0</td>\n",
              "      <td>White</td>\n",
              "      <td>Severe Side Effects</td>\n",
              "    </tr>\n",
              "    <tr>\n",
              "      <th>399996</th>\n",
              "      <td>TRUE</td>\n",
              "      <td>M</td>\n",
              "      <td>klaron</td>\n",
              "      <td>55.0</td>\n",
              "      <td>Hispanic, White</td>\n",
              "      <td>No Side Effects</td>\n",
              "    </tr>\n",
              "    <tr>\n",
              "      <th>399997</th>\n",
              "      <td>TRUE</td>\n",
              "      <td>M</td>\n",
              "      <td>celexa</td>\n",
              "      <td>57.0</td>\n",
              "      <td>Other</td>\n",
              "      <td>Severe Side Effects</td>\n",
              "    </tr>\n",
              "    <tr>\n",
              "      <th>399998</th>\n",
              "      <td>TRUE</td>\n",
              "      <td>F</td>\n",
              "      <td>zoloft</td>\n",
              "      <td>59.0</td>\n",
              "      <td>White</td>\n",
              "      <td>No Side Effects</td>\n",
              "    </tr>\n",
              "    <tr>\n",
              "      <th>399999</th>\n",
              "      <td>TRUE</td>\n",
              "      <td>M</td>\n",
              "      <td>prilosec</td>\n",
              "      <td>65.0</td>\n",
              "      <td>White</td>\n",
              "      <td>Mild Side Effects</td>\n",
              "    </tr>\n",
              "  </tbody>\n",
              "</table>\n",
              "<p>400000 rows × 6 columns</p>\n",
              "</div>\n",
              "    <div class=\"colab-df-buttons\">\n",
              "\n",
              "  <div class=\"colab-df-container\">\n",
              "    <button class=\"colab-df-convert\" onclick=\"convertToInteractive('df-51451d78-69d3-4505-95a9-df565cccdd1d')\"\n",
              "            title=\"Convert this dataframe to an interactive table.\"\n",
              "            style=\"display:none;\">\n",
              "\n",
              "  <svg xmlns=\"http://www.w3.org/2000/svg\" height=\"24px\" viewBox=\"0 -960 960 960\">\n",
              "    <path d=\"M120-120v-720h720v720H120Zm60-500h600v-160H180v160Zm220 220h160v-160H400v160Zm0 220h160v-160H400v160ZM180-400h160v-160H180v160Zm440 0h160v-160H620v160ZM180-180h160v-160H180v160Zm440 0h160v-160H620v160Z\"/>\n",
              "  </svg>\n",
              "    </button>\n",
              "\n",
              "  <style>\n",
              "    .colab-df-container {\n",
              "      display:flex;\n",
              "      gap: 12px;\n",
              "    }\n",
              "\n",
              "    .colab-df-convert {\n",
              "      background-color: #E8F0FE;\n",
              "      border: none;\n",
              "      border-radius: 50%;\n",
              "      cursor: pointer;\n",
              "      display: none;\n",
              "      fill: #1967D2;\n",
              "      height: 32px;\n",
              "      padding: 0 0 0 0;\n",
              "      width: 32px;\n",
              "    }\n",
              "\n",
              "    .colab-df-convert:hover {\n",
              "      background-color: #E2EBFA;\n",
              "      box-shadow: 0px 1px 2px rgba(60, 64, 67, 0.3), 0px 1px 3px 1px rgba(60, 64, 67, 0.15);\n",
              "      fill: #174EA6;\n",
              "    }\n",
              "\n",
              "    .colab-df-buttons div {\n",
              "      margin-bottom: 4px;\n",
              "    }\n",
              "\n",
              "    [theme=dark] .colab-df-convert {\n",
              "      background-color: #3B4455;\n",
              "      fill: #D2E3FC;\n",
              "    }\n",
              "\n",
              "    [theme=dark] .colab-df-convert:hover {\n",
              "      background-color: #434B5C;\n",
              "      box-shadow: 0px 1px 3px 1px rgba(0, 0, 0, 0.15);\n",
              "      filter: drop-shadow(0px 1px 2px rgba(0, 0, 0, 0.3));\n",
              "      fill: #FFFFFF;\n",
              "    }\n",
              "  </style>\n",
              "\n",
              "    <script>\n",
              "      const buttonEl =\n",
              "        document.querySelector('#df-51451d78-69d3-4505-95a9-df565cccdd1d button.colab-df-convert');\n",
              "      buttonEl.style.display =\n",
              "        google.colab.kernel.accessAllowed ? 'block' : 'none';\n",
              "\n",
              "      async function convertToInteractive(key) {\n",
              "        const element = document.querySelector('#df-51451d78-69d3-4505-95a9-df565cccdd1d');\n",
              "        const dataTable =\n",
              "          await google.colab.kernel.invokeFunction('convertToInteractive',\n",
              "                                                    [key], {});\n",
              "        if (!dataTable) return;\n",
              "\n",
              "        const docLinkHtml = 'Like what you see? Visit the ' +\n",
              "          '<a target=\"_blank\" href=https://colab.research.google.com/notebooks/data_table.ipynb>data table notebook</a>'\n",
              "          + ' to learn more about interactive tables.';\n",
              "        element.innerHTML = '';\n",
              "        dataTable['output_type'] = 'display_data';\n",
              "        await google.colab.output.renderOutput(dataTable, element);\n",
              "        const docLink = document.createElement('div');\n",
              "        docLink.innerHTML = docLinkHtml;\n",
              "        element.appendChild(docLink);\n",
              "      }\n",
              "    </script>\n",
              "  </div>\n",
              "\n",
              "\n",
              "<div id=\"df-3afee31a-da51-4e97-9067-1a890742655c\">\n",
              "  <button class=\"colab-df-quickchart\" onclick=\"quickchart('df-3afee31a-da51-4e97-9067-1a890742655c')\"\n",
              "            title=\"Suggest charts.\"\n",
              "            style=\"display:none;\">\n",
              "\n",
              "<svg xmlns=\"http://www.w3.org/2000/svg\" height=\"24px\"viewBox=\"0 0 24 24\"\n",
              "     width=\"24px\">\n",
              "    <g>\n",
              "        <path d=\"M19 3H5c-1.1 0-2 .9-2 2v14c0 1.1.9 2 2 2h14c1.1 0 2-.9 2-2V5c0-1.1-.9-2-2-2zM9 17H7v-7h2v7zm4 0h-2V7h2v10zm4 0h-2v-4h2v4z\"/>\n",
              "    </g>\n",
              "</svg>\n",
              "  </button>\n",
              "\n",
              "<style>\n",
              "  .colab-df-quickchart {\n",
              "      --bg-color: #E8F0FE;\n",
              "      --fill-color: #1967D2;\n",
              "      --hover-bg-color: #E2EBFA;\n",
              "      --hover-fill-color: #174EA6;\n",
              "      --disabled-fill-color: #AAA;\n",
              "      --disabled-bg-color: #DDD;\n",
              "  }\n",
              "\n",
              "  [theme=dark] .colab-df-quickchart {\n",
              "      --bg-color: #3B4455;\n",
              "      --fill-color: #D2E3FC;\n",
              "      --hover-bg-color: #434B5C;\n",
              "      --hover-fill-color: #FFFFFF;\n",
              "      --disabled-bg-color: #3B4455;\n",
              "      --disabled-fill-color: #666;\n",
              "  }\n",
              "\n",
              "  .colab-df-quickchart {\n",
              "    background-color: var(--bg-color);\n",
              "    border: none;\n",
              "    border-radius: 50%;\n",
              "    cursor: pointer;\n",
              "    display: none;\n",
              "    fill: var(--fill-color);\n",
              "    height: 32px;\n",
              "    padding: 0;\n",
              "    width: 32px;\n",
              "  }\n",
              "\n",
              "  .colab-df-quickchart:hover {\n",
              "    background-color: var(--hover-bg-color);\n",
              "    box-shadow: 0 1px 2px rgba(60, 64, 67, 0.3), 0 1px 3px 1px rgba(60, 64, 67, 0.15);\n",
              "    fill: var(--button-hover-fill-color);\n",
              "  }\n",
              "\n",
              "  .colab-df-quickchart-complete:disabled,\n",
              "  .colab-df-quickchart-complete:disabled:hover {\n",
              "    background-color: var(--disabled-bg-color);\n",
              "    fill: var(--disabled-fill-color);\n",
              "    box-shadow: none;\n",
              "  }\n",
              "\n",
              "  .colab-df-spinner {\n",
              "    border: 2px solid var(--fill-color);\n",
              "    border-color: transparent;\n",
              "    border-bottom-color: var(--fill-color);\n",
              "    animation:\n",
              "      spin 1s steps(1) infinite;\n",
              "  }\n",
              "\n",
              "  @keyframes spin {\n",
              "    0% {\n",
              "      border-color: transparent;\n",
              "      border-bottom-color: var(--fill-color);\n",
              "      border-left-color: var(--fill-color);\n",
              "    }\n",
              "    20% {\n",
              "      border-color: transparent;\n",
              "      border-left-color: var(--fill-color);\n",
              "      border-top-color: var(--fill-color);\n",
              "    }\n",
              "    30% {\n",
              "      border-color: transparent;\n",
              "      border-left-color: var(--fill-color);\n",
              "      border-top-color: var(--fill-color);\n",
              "      border-right-color: var(--fill-color);\n",
              "    }\n",
              "    40% {\n",
              "      border-color: transparent;\n",
              "      border-right-color: var(--fill-color);\n",
              "      border-top-color: var(--fill-color);\n",
              "    }\n",
              "    60% {\n",
              "      border-color: transparent;\n",
              "      border-right-color: var(--fill-color);\n",
              "    }\n",
              "    80% {\n",
              "      border-color: transparent;\n",
              "      border-right-color: var(--fill-color);\n",
              "      border-bottom-color: var(--fill-color);\n",
              "    }\n",
              "    90% {\n",
              "      border-color: transparent;\n",
              "      border-bottom-color: var(--fill-color);\n",
              "    }\n",
              "  }\n",
              "</style>\n",
              "\n",
              "  <script>\n",
              "    async function quickchart(key) {\n",
              "      const quickchartButtonEl =\n",
              "        document.querySelector('#' + key + ' button');\n",
              "      quickchartButtonEl.disabled = true;  // To prevent multiple clicks.\n",
              "      quickchartButtonEl.classList.add('colab-df-spinner');\n",
              "      try {\n",
              "        const charts = await google.colab.kernel.invokeFunction(\n",
              "            'suggestCharts', [key], {});\n",
              "      } catch (error) {\n",
              "        console.error('Error during call to suggestCharts:', error);\n",
              "      }\n",
              "      quickchartButtonEl.classList.remove('colab-df-spinner');\n",
              "      quickchartButtonEl.classList.add('colab-df-quickchart-complete');\n",
              "    }\n",
              "    (() => {\n",
              "      let quickchartButtonEl =\n",
              "        document.querySelector('#df-3afee31a-da51-4e97-9067-1a890742655c button');\n",
              "      quickchartButtonEl.style.display =\n",
              "        google.colab.kernel.accessAllowed ? 'block' : 'none';\n",
              "    })();\n",
              "  </script>\n",
              "</div>\n",
              "    </div>\n",
              "  </div>\n"
            ]
          },
          "metadata": {},
          "execution_count": 3
        }
      ],
      "source": [
        "data"
      ]
    },
    {
      "cell_type": "markdown",
      "source": [
        "FEW NECCESARY CODES"
      ],
      "metadata": {
        "id": "J_-4R6U1yxrL"
      }
    },
    {
      "cell_type": "code",
      "source": [
        "# Use the drop_duplicates method to remove duplicate rows\n",
        "data = data.drop_duplicates()"
      ],
      "metadata": {
        "id": "-KxfPjcGxVSb"
      },
      "execution_count": 4,
      "outputs": []
    },
    {
      "cell_type": "code",
      "source": [
        "#Drop the column \"Name\" which doesn't give any contribution for the modelling\n",
        "data = data.drop(['NAME'], axis = 1)"
      ],
      "metadata": {
        "id": "2JkGVMpax-Yu"
      },
      "execution_count": 5,
      "outputs": []
    },
    {
      "cell_type": "markdown",
      "metadata": {
        "id": "w3Xuy9amRB_R"
      },
      "source": [
        "**PRE PROCESSING**"
      ]
    },
    {
      "cell_type": "code",
      "execution_count": 6,
      "metadata": {
        "id": "b-5ns2cfSIF9"
      },
      "outputs": [],
      "source": [
        "#HANDLING MISSING VALUES"
      ]
    },
    {
      "cell_type": "code",
      "execution_count": 8,
      "metadata": {
        "id": "xcWTZoIJRFMe",
        "colab": {
          "base_uri": "https://localhost:8080/"
        },
        "outputId": "15bc729a-60e5-432e-a9b4-156e425485ba"
      },
      "outputs": [
        {
          "output_type": "stream",
          "name": "stdout",
          "text": [
            "Percentage of missing values in each column:\n",
            "GENDER          0.000000\n",
            "DRUG NAME       0.000000\n",
            "AGE             0.005023\n",
            "RACE            0.000000\n",
            "SIDE EFFECTS    0.000000\n",
            "dtype: float64\n"
          ]
        }
      ],
      "source": [
        "print(\"Percentage of missing values in each column:\")\n",
        "print(100 * data.isnull().sum() / len(data))"
      ]
    },
    {
      "cell_type": "code",
      "execution_count": 9,
      "metadata": {
        "id": "SNu0zlPWRp_x"
      },
      "outputs": [],
      "source": [
        "data\n",
        "\n",
        "# Calculate the median age (excluding missing values)\n",
        "median_age = data['AGE'].median()\n",
        "\n",
        "# Fill missing values in the 'AGE' column with the calculated median age\n",
        "data['AGE'].fillna(median_age, inplace=True)\n"
      ]
    },
    {
      "cell_type": "code",
      "execution_count": 10,
      "metadata": {
        "id": "xUCP602AR2sc",
        "colab": {
          "base_uri": "https://localhost:8080/"
        },
        "outputId": "3d589764-81a3-4a0b-a84f-26d7c0e5a3eb"
      },
      "outputs": [
        {
          "output_type": "execute_result",
          "data": {
            "text/plain": [
              "GENDER          0\n",
              "DRUG NAME       0\n",
              "AGE             0\n",
              "RACE            0\n",
              "SIDE EFFECTS    0\n",
              "dtype: int64"
            ]
          },
          "metadata": {},
          "execution_count": 10
        }
      ],
      "source": [
        "data.isna().sum()"
      ]
    },
    {
      "cell_type": "code",
      "execution_count": 11,
      "metadata": {
        "id": "jqAmXlCoSOu-"
      },
      "outputs": [],
      "source": [
        "#FINDING OUTLIERS AND HANDLING THEM"
      ]
    },
    {
      "cell_type": "code",
      "execution_count": 12,
      "metadata": {
        "id": "a2FwB8GpSTpz",
        "colab": {
          "base_uri": "https://localhost:8080/",
          "height": 469
        },
        "outputId": "4ba3bc98-5ced-4f50-c0e8-16004c0cf695"
      },
      "outputs": [
        {
          "output_type": "execute_result",
          "data": {
            "text/plain": [
              "Text(0.5, 1.0, 'Boxplot for AGE')"
            ]
          },
          "metadata": {},
          "execution_count": 12
        },
        {
          "output_type": "display_data",
          "data": {
            "text/plain": [
              "<Figure size 640x480 with 1 Axes>"
            ],
            "image/png": "[encoded data removed]"
          },
          "metadata": {}
        }
      ],
      "source": [
        "plt.boxplot(data['AGE'])\n",
        "plt.title('Boxplot for AGE')"
      ]
    },
    {
      "cell_type": "code",
      "execution_count": 13,
      "metadata": {
        "id": "EBM9b6SVSluC"
      },
      "outputs": [],
      "source": [
        "q1 = np.percentile(data['AGE'], 25)\n",
        "q2 = np.percentile(data['AGE'], 50)\n",
        "q3 = np.percentile(data['AGE'], 75)"
      ]
    },
    {
      "cell_type": "code",
      "execution_count": 14,
      "metadata": {
        "id": "gk5k87mDSsx1"
      },
      "outputs": [],
      "source": [
        "iqr=q3-q1"
      ]
    },
    {
      "cell_type": "code",
      "execution_count": 15,
      "metadata": {
        "id": "rvUPFLwFStXV"
      },
      "outputs": [],
      "source": [
        "low_limit = q1 - 1.5*iqr\n",
        "upr_limit = q3 + 1.5*iqr"
      ]
    },
    {
      "cell_type": "code",
      "execution_count": 16,
      "metadata": {
        "id": "NiEz9X8zSt2V",
        "colab": {
          "base_uri": "https://localhost:8080/"
        },
        "outputId": "40d514e9-5ba9-42bb-ac63-03e29445e011"
      },
      "outputs": [
        {
          "output_type": "execute_result",
          "data": {
            "text/plain": [
              "1.0"
            ]
          },
          "metadata": {},
          "execution_count": 16
        }
      ],
      "source": [
        "low_limit"
      ]
    },
    {
      "cell_type": "code",
      "execution_count": 17,
      "metadata": {
        "id": "guhyeqVySuKo",
        "colab": {
          "base_uri": "https://localhost:8080/"
        },
        "outputId": "fdcba8a7-285d-41b6-db9a-c648e3ccb6c3"
      },
      "outputs": [
        {
          "output_type": "execute_result",
          "data": {
            "text/plain": [
              "81.0"
            ]
          },
          "metadata": {},
          "execution_count": 17
        }
      ],
      "source": [
        "upr_limit"
      ]
    },
    {
      "cell_type": "code",
      "execution_count": 18,
      "metadata": {
        "id": "Uk4vhn9ASuZf"
      },
      "outputs": [],
      "source": [
        "outlier=[]\n",
        "for x in data['AGE']:\n",
        "    if x>upr_limit or x<low_limit:\n",
        "        outlier.append(x)"
      ]
    },
    {
      "cell_type": "code",
      "execution_count": 19,
      "metadata": {
        "id": "3FhcpKGXTDoP",
        "colab": {
          "base_uri": "https://localhost:8080/"
        },
        "outputId": "00566682-5f5c-4457-eb08-2fca3291d512"
      },
      "outputs": [
        {
          "output_type": "execute_result",
          "data": {
            "text/plain": [
              "[300.0,\n",
              " 302.0,\n",
              " 87.0,\n",
              " 90.0,\n",
              " 84.0,\n",
              " 500.0,\n",
              " 400.0,\n",
              " 87.0,\n",
              " 203.0,\n",
              " 160.0,\n",
              " 400.0,\n",
              " 87.0,\n",
              " 87.0,\n",
              " 191.0,\n",
              " 450.0,\n",
              " 390.0,\n",
              " 84.0,\n",
              " 87.0,\n",
              " 84.0,\n",
              " 155.0,\n",
              " 300.0,\n",
              " 87.0,\n",
              " 87.0,\n",
              " 84.0,\n",
              " 390.0,\n",
              " 87.0,\n",
              " 84.0,\n",
              " 600.0,\n",
              " 84.0,\n",
              " 84.0,\n",
              " 87.0,\n",
              " 84.0,\n",
              " 211.0,\n",
              " 600.0,\n",
              " 401.0,\n",
              " 89.0,\n",
              " 300.0,\n",
              " 390.0]"
            ]
          },
          "metadata": {},
          "execution_count": 19
        }
      ],
      "source": [
        "outlier"
      ]
    },
    {
      "cell_type": "code",
      "execution_count": 20,
      "metadata": {
        "id": "OSABfmp_TLRh"
      },
      "outputs": [],
      "source": [
        "ind1 = data['AGE']>upr_limit\n",
        "ind2= data['AGE']<low_limit"
      ]
    },
    {
      "cell_type": "code",
      "execution_count": 21,
      "metadata": {
        "id": "7aMXkv0eTMVx",
        "colab": {
          "base_uri": "https://localhost:8080/"
        },
        "outputId": "ac7945df-240f-412b-c385-b20a9fdcb50f"
      },
      "outputs": [
        {
          "output_type": "execute_result",
          "data": {
            "text/plain": [
              "Int64Index([  3008,  41048,  43016,  52650,  60136,  66169,  85047,  93226,\n",
              "            111850, 119574, 127240, 145846, 168426, 171643, 174039, 174487,\n",
              "            186893, 209780, 218988, 224733, 232518, 242302, 245321, 259034,\n",
              "            264849, 266215, 275520, 290165, 295943, 300452, 315506, 325628,\n",
              "            325631, 333669, 337790, 363934, 384352, 393820],\n",
              "           dtype='int64')"
            ]
          },
          "metadata": {},
          "execution_count": 21
        }
      ],
      "source": [
        "data.loc[ind1].index"
      ]
    },
    {
      "cell_type": "code",
      "execution_count": 23,
      "metadata": {
        "id": "U4tRHDStTQoh",
        "colab": {
          "base_uri": "https://localhost:8080/"
        },
        "outputId": "8be25ac5-5c85-448c-c0d7-1370e042d625"
      },
      "outputs": [
        {
          "output_type": "execute_result",
          "data": {
            "text/plain": [
              "Int64Index([], dtype='int64')"
            ]
          },
          "metadata": {},
          "execution_count": 23
        }
      ],
      "source": [
        "data.loc[ind2].index #no low outliers"
      ]
    },
    {
      "cell_type": "code",
      "execution_count": 24,
      "metadata": {
        "id": "dDULFnfNTeID",
        "colab": {
          "base_uri": "https://localhost:8080/"
        },
        "outputId": "11453261-5a38-4f18-c74b-2288146f5f9b"
      },
      "outputs": [
        {
          "output_type": "execute_result",
          "data": {
            "text/plain": [
              "3008      300.0\n",
              "41048     302.0\n",
              "43016      87.0\n",
              "52650      90.0\n",
              "60136      84.0\n",
              "66169     500.0\n",
              "85047     400.0\n",
              "93226      87.0\n",
              "111850    203.0\n",
              "119574    160.0\n",
              "127240    400.0\n",
              "145846     87.0\n",
              "168426     87.0\n",
              "171643    191.0\n",
              "174039    450.0\n",
              "174487    390.0\n",
              "186893     84.0\n",
              "209780     87.0\n",
              "218988     84.0\n",
              "224733    155.0\n",
              "232518    300.0\n",
              "242302     87.0\n",
              "245321     87.0\n",
              "259034     84.0\n",
              "264849    390.0\n",
              "266215     87.0\n",
              "275520     84.0\n",
              "290165    600.0\n",
              "295943     84.0\n",
              "300452     84.0\n",
              "315506     87.0\n",
              "325628     84.0\n",
              "325631    211.0\n",
              "333669    600.0\n",
              "337790    401.0\n",
              "363934     89.0\n",
              "384352    300.0\n",
              "393820    390.0\n",
              "Name: AGE, dtype: float64"
            ]
          },
          "metadata": {},
          "execution_count": 24
        }
      ],
      "source": [
        "data[ind1]['AGE']"
      ]
    },
    {
      "cell_type": "code",
      "execution_count": 25,
      "metadata": {
        "id": "YjIuRsW87wRO"
      },
      "outputs": [],
      "source": [
        "data=data[data['AGE']<=100]"
      ]
    },
    {
      "cell_type": "code",
      "execution_count": 26,
      "metadata": {
        "id": "tTPPQ7MA6xXB",
        "colab": {
          "base_uri": "https://localhost:8080/"
        },
        "outputId": "5ba8a89d-b261-444c-bce7-1a87b486713b"
      },
      "outputs": [
        {
          "output_type": "execute_result",
          "data": {
            "text/plain": [
              "55.0    15493\n",
              "37.0    14307\n",
              "29.0    13671\n",
              "24.0    13640\n",
              "41.0    12945\n",
              "        ...  \n",
              "84.0        8\n",
              "90.0        1\n",
              "80.0        1\n",
              "77.0        1\n",
              "89.0        1\n",
              "Name: AGE, Length: 67, dtype: int64"
            ]
          },
          "metadata": {},
          "execution_count": 26
        }
      ],
      "source": [
        "data['AGE'].value_counts()"
      ]
    },
    {
      "cell_type": "code",
      "execution_count": 27,
      "metadata": {
        "id": "meIbg6cILTxD"
      },
      "outputs": [],
      "source": [
        "#Encoding"
      ]
    },
    {
      "cell_type": "code",
      "execution_count": 28,
      "metadata": {
        "id": "zc8GkGmVwc5E"
      },
      "outputs": [],
      "source": [
        "# As the dataset is large, I am considering Label encoding"
      ]
    },
    {
      "cell_type": "code",
      "execution_count": 29,
      "metadata": {
        "id": "AVmf9CpNweLW"
      },
      "outputs": [],
      "source": [
        "#LABEL ENCODING"
      ]
    },
    {
      "cell_type": "code",
      "execution_count": 30,
      "metadata": {
        "id": "RYgNP5aEwd9B"
      },
      "outputs": [],
      "source": [
        "label_columns = ['GENDER','RACE','DRUG NAME','SIDE EFFECTS']"
      ]
    },
    {
      "cell_type": "code",
      "execution_count": 31,
      "metadata": {
        "id": "JAgcOgRTMWtH",
        "colab": {
          "base_uri": "https://localhost:8080/"
        },
        "outputId": "64f695fe-b97f-4505-d6b1-aa6f73256349"
      },
      "outputs": [
        {
          "output_type": "stream",
          "name": "stderr",
          "text": [
            "<ipython-input-31-a4480c16519a>:4: SettingWithCopyWarning: \n",
            "A value is trying to be set on a copy of a slice from a DataFrame.\n",
            "Try using .loc[row_indexer,col_indexer] = value instead\n",
            "\n",
            "See the caveats in the documentation: https://pandas.pydata.org/pandas-docs/stable/user_guide/indexing.html#returning-a-view-versus-a-copy\n",
            "  data[column] = le.fit_transform(data[column])\n",
            "<ipython-input-31-a4480c16519a>:4: SettingWithCopyWarning: \n",
            "A value is trying to be set on a copy of a slice from a DataFrame.\n",
            "Try using .loc[row_indexer,col_indexer] = value instead\n",
            "\n",
            "See the caveats in the documentation: https://pandas.pydata.org/pandas-docs/stable/user_guide/indexing.html#returning-a-view-versus-a-copy\n",
            "  data[column] = le.fit_transform(data[column])\n",
            "<ipython-input-31-a4480c16519a>:4: SettingWithCopyWarning: \n",
            "A value is trying to be set on a copy of a slice from a DataFrame.\n",
            "Try using .loc[row_indexer,col_indexer] = value instead\n",
            "\n",
            "See the caveats in the documentation: https://pandas.pydata.org/pandas-docs/stable/user_guide/indexing.html#returning-a-view-versus-a-copy\n",
            "  data[column] = le.fit_transform(data[column])\n",
            "<ipython-input-31-a4480c16519a>:4: SettingWithCopyWarning: \n",
            "A value is trying to be set on a copy of a slice from a DataFrame.\n",
            "Try using .loc[row_indexer,col_indexer] = value instead\n",
            "\n",
            "See the caveats in the documentation: https://pandas.pydata.org/pandas-docs/stable/user_guide/indexing.html#returning-a-view-versus-a-copy\n",
            "  data[column] = le.fit_transform(data[column])\n"
          ]
        }
      ],
      "source": [
        "from sklearn.preprocessing import LabelEncoder\n",
        "le = LabelEncoder()\n",
        "for column in label_columns:\n",
        "    data[column] = le.fit_transform(data[column])"
      ]
    },
    {
      "cell_type": "code",
      "execution_count": 32,
      "metadata": {
        "colab": {
          "base_uri": "https://localhost:8080/"
        },
        "id": "zaEHRno2YQPR",
        "outputId": "72de99e2-a6e2-4c72-a9f3-8c555b2adf8d"
      },
      "outputs": [
        {
          "output_type": "execute_result",
          "data": {
            "text/plain": [
              "0         435\n",
              "1         491\n",
              "2         425\n",
              "3         470\n",
              "4         439\n",
              "         ... \n",
              "399995    231\n",
              "399996    227\n",
              "399997     90\n",
              "399998    493\n",
              "399999    353\n",
              "Name: DRUG NAME, Length: 398189, dtype: int64"
            ]
          },
          "metadata": {},
          "execution_count": 32
        }
      ],
      "source": [
        "data['DRUG NAME']"
      ]
    },
    {
      "cell_type": "markdown",
      "metadata": {
        "id": "wkVp8yC2ObFE"
      },
      "source": [
        "**CORRELATION**"
      ]
    },
    {
      "cell_type": "code",
      "execution_count": 33,
      "metadata": {
        "colab": {
          "base_uri": "https://localhost:8080/",
          "height": 847
        },
        "id": "ALlX0K0RxDsw",
        "outputId": "fb12684f-01bc-4a0e-b1f6-e99c96a4f8cb"
      },
      "outputs": [
        {
          "output_type": "execute_result",
          "data": {
            "text/plain": [
              "<function matplotlib.pyplot.show(close=None, block=None)>"
            ]
          },
          "metadata": {},
          "execution_count": 33
        },
        {
          "output_type": "display_data",
          "data": {
            "text/plain": [
              "<Figure size 1000x1000 with 2 Axes>"
            ],
            "image/png": "[encoded data removed]"
          },
          "metadata": {}
        }
      ],
      "source": [
        "plt.figure(figsize=(10,10))\n",
        "corr_matrix=data.corr()\n",
        "sns.heatmap(corr_matrix,vmin=-0.2,vmax=0.9,annot=True,cmap='YlGnBu')\n",
        "plt.show"
      ]
    },
    {
      "cell_type": "code",
      "execution_count": 34,
      "metadata": {
        "id": "5pydU-y_xEM0"
      },
      "outputs": [],
      "source": [
        "# No correlation between any features. So I am not dropping anything."
      ]
    },
    {
      "cell_type": "markdown",
      "metadata": {
        "id": "BYPWMG1YxQLO"
      },
      "source": [
        "**Scaling**"
      ]
    },
    {
      "cell_type": "code",
      "execution_count": 35,
      "metadata": {
        "id": "l_hjEdDLxEm4"
      },
      "outputs": [],
      "source": [
        "# I am not doing scaling because scaling has to be done on continuous numerical columns. But in my dataset all are discrete."
      ]
    },
    {
      "cell_type": "markdown",
      "metadata": {
        "id": "QEhJh5OfxcOe"
      },
      "source": [
        "**Train Test Splitting**"
      ]
    },
    {
      "cell_type": "code",
      "execution_count": 36,
      "metadata": {
        "id": "SbAAiRyYxbpg"
      },
      "outputs": [],
      "source": [
        "X=data.drop('SIDE EFFECTS',axis=1)\n",
        "y=data['SIDE EFFECTS']"
      ]
    },
    {
      "cell_type": "code",
      "execution_count": 37,
      "metadata": {
        "id": "9V_feocXxkRU"
      },
      "outputs": [],
      "source": [
        "from sklearn.model_selection import train_test_split\n",
        "X_train,X_test,y_train,y_test=train_test_split(X,y,test_size=0.25,random_state=42)"
      ]
    },
    {
      "cell_type": "code",
      "execution_count": 38,
      "metadata": {
        "colab": {
          "base_uri": "https://localhost:8080/"
        },
        "id": "tNQmGdE8xtFs",
        "outputId": "aaad4271-562f-4a0a-e01e-cd32c08caa22"
      },
      "outputs": [
        {
          "output_type": "stream",
          "name": "stdout",
          "text": [
            "X_train dataset:  (298641, 4)\n",
            "y_train dataset:  (298641,)\n",
            "X_test dataset:  (99548, 4)\n",
            "y_test dataset:  (99548,)\n"
          ]
        }
      ],
      "source": [
        "print(\"X_train dataset: \", X_train.shape)\n",
        "print(\"y_train dataset: \", y_train.shape)\n",
        "print(\"X_test dataset: \", X_test.shape)\n",
        "print(\"y_test dataset: \", y_test.shape)"
      ]
    },
    {
      "cell_type": "markdown",
      "metadata": {
        "id": "s8-gBovux2rL"
      },
      "source": [
        "**Model Selection Based on Metrics**"
      ]
    },
    {
      "cell_type": "code",
      "execution_count": 39,
      "metadata": {
        "id": "wQXRzyWmxygA"
      },
      "outputs": [],
      "source": [
        "# I am Considering models which are not affected by the magnitude difference in each features."
      ]
    },
    {
      "cell_type": "code",
      "execution_count": 40,
      "metadata": {
        "colab": {
          "base_uri": "https://localhost:8080/"
        },
        "id": "pxLvuTyUyHm3",
        "outputId": "bc840dc5-1620-4e1c-d561-bbfdd567d8ed"
      },
      "outputs": [
        {
          "output_type": "execute_result",
          "data": {
            "text/plain": [
              "1    132665\n",
              "3    115245\n",
              "2     74162\n",
              "4     53187\n",
              "0     22930\n",
              "Name: SIDE EFFECTS, dtype: int64"
            ]
          },
          "metadata": {},
          "execution_count": 40
        }
      ],
      "source": [
        "data['SIDE EFFECTS'].value_counts()# multiclass classification"
      ]
    },
    {
      "cell_type": "code",
      "execution_count": 41,
      "metadata": {
        "colab": {
          "base_uri": "https://localhost:8080/"
        },
        "id": "349N8EEbyUPA",
        "outputId": "9d5cc4ec-bd1d-4476-d9bb-b0b97207f698"
      },
      "outputs": [
        {
          "output_type": "execute_result",
          "data": {
            "text/plain": [
              "1    0.333171\n",
              "3    0.289423\n",
              "2    0.186248\n",
              "4    0.133572\n",
              "0    0.057586\n",
              "Name: SIDE EFFECTS, dtype: float64"
            ]
          },
          "metadata": {},
          "execution_count": 41
        }
      ],
      "source": [
        "data['SIDE EFFECTS'].value_counts(normalize=True)"
      ]
    },
    {
      "cell_type": "code",
      "execution_count": 42,
      "metadata": {
        "id": "qavHy9nlyUqV"
      },
      "outputs": [],
      "source": [
        "# It is an imbalanced dataset, so I am considering other metrics rather than accuracy"
      ]
    },
    {
      "cell_type": "code",
      "execution_count": 43,
      "metadata": {
        "id": "8dVO6yGeydj2"
      },
      "outputs": [],
      "source": [
        "# DECISION TREE"
      ]
    },
    {
      "cell_type": "code",
      "execution_count": 44,
      "metadata": {
        "colab": {
          "base_uri": "https://localhost:8080/",
          "height": 75
        },
        "id": "kTgvJYp7yoSS",
        "outputId": "371b50fe-8b13-4acd-e2ec-8a3abc36ec69"
      },
      "outputs": [
        {
          "output_type": "execute_result",
          "data": {
            "text/plain": [
              "DecisionTreeClassifier()"
            ],
            "text/html": [
              "<style>#sk-container-id-1 {color: black;background-color: white;}#sk-container-id-1 pre{padding: 0;}#sk-container-id-1 div.sk-toggleable {background-color: white;}#sk-container-id-1 label.sk-toggleable__label {cursor: pointer;display: block;width: 100%;margin-bottom: 0;padding: 0.3em;box-sizing: border-box;text-align: center;}#sk-container-id-1 label.sk-toggleable__label-arrow:before {content: \"▸\";float: left;margin-right: 0.25em;color: #696969;}#sk-container-id-1 label.sk-toggleable__label-arrow:hover:before {color: black;}#sk-container-id-1 div.sk-estimator:hover label.sk-toggleable__label-arrow:before {color: black;}#sk-container-id-1 div.sk-toggleable__content {max-height: 0;max-width: 0;overflow: hidden;text-align: left;background-color: #f0f8ff;}#sk-container-id-1 div.sk-toggleable__content pre {margin: 0.2em;color: black;border-radius: 0.25em;background-color: #f0f8ff;}#sk-container-id-1 input.sk-toggleable__control:checked~div.sk-toggleable__content {max-height: 200px;max-width: 100%;overflow: auto;}#sk-container-id-1 input.sk-toggleable__control:checked~label.sk-toggleable__label-arrow:before {content: \"▾\";}#sk-container-id-1 div.sk-estimator input.sk-toggleable__control:checked~label.sk-toggleable__label {background-color: #d4ebff;}#sk-container-id-1 div.sk-label input.sk-toggleable__control:checked~label.sk-toggleable__label {background-color: #d4ebff;}#sk-container-id-1 input.sk-hidden--visually {border: 0;clip: rect(1px 1px 1px 1px);clip: rect(1px, 1px, 1px, 1px);height: 1px;margin: -1px;overflow: hidden;padding: 0;position: absolute;width: 1px;}#sk-container-id-1 div.sk-estimator {font-family: monospace;background-color: #f0f8ff;border: 1px dotted black;border-radius: 0.25em;box-sizing: border-box;margin-bottom: 0.5em;}#sk-container-id-1 div.sk-estimator:hover {background-color: #d4ebff;}#sk-container-id-1 div.sk-parallel-item::after {content: \"\";width: 100%;border-bottom: 1px solid gray;flex-grow: 1;}#sk-container-id-1 div.sk-label:hover label.sk-toggleable__label {background-color: #d4ebff;}#sk-container-id-1 div.sk-serial::before {content: \"\";position: absolute;border-left: 1px solid gray;box-sizing: border-box;top: 0;bottom: 0;left: 50%;z-index: 0;}#sk-container-id-1 div.sk-serial {display: flex;flex-direction: column;align-items: center;background-color: white;padding-right: 0.2em;padding-left: 0.2em;position: relative;}#sk-container-id-1 div.sk-item {position: relative;z-index: 1;}#sk-container-id-1 div.sk-parallel {display: flex;align-items: stretch;justify-content: center;background-color: white;position: relative;}#sk-container-id-1 div.sk-item::before, #sk-container-id-1 div.sk-parallel-item::before {content: \"\";position: absolute;border-left: 1px solid gray;box-sizing: border-box;top: 0;bottom: 0;left: 50%;z-index: -1;}#sk-container-id-1 div.sk-parallel-item {display: flex;flex-direction: column;z-index: 1;position: relative;background-color: white;}#sk-container-id-1 div.sk-parallel-item:first-child::after {align-self: flex-end;width: 50%;}#sk-container-id-1 div.sk-parallel-item:last-child::after {align-self: flex-start;width: 50%;}#sk-container-id-1 div.sk-parallel-item:only-child::after {width: 0;}#sk-container-id-1 div.sk-dashed-wrapped {border: 1px dashed gray;margin: 0 0.4em 0.5em 0.4em;box-sizing: border-box;padding-bottom: 0.4em;background-color: white;}#sk-container-id-1 div.sk-label label {font-family: monospace;font-weight: bold;display: inline-block;line-height: 1.2em;}#sk-container-id-1 div.sk-label-container {text-align: center;}#sk-container-id-1 div.sk-container {/* jupyter's `normalize.less` sets `[hidden] { display: none; }` but bootstrap.min.css set `[hidden] { display: none !important; }` so we also need the `!important` here to be able to override the default hidden behavior on the sphinx rendered scikit-learn.org. See: https://github.com/scikit-learn/scikit-learn/issues/21755 */display: inline-block !important;position: relative;}#sk-container-id-1 div.sk-text-repr-fallback {display: none;}</style><div id=\"sk-container-id-1\" class=\"sk-top-container\"><div class=\"sk-text-repr-fallback\"><pre>DecisionTreeClassifier()</pre><b>In a Jupyter environment, please rerun this cell to show the HTML representation or trust the notebook. <br />On GitHub, the HTML representation is unable to render, please try loading this page with nbviewer.org.</b></div><div class=\"sk-container\" hidden><div class=\"sk-item\"><div class=\"sk-estimator sk-toggleable\"><input class=\"sk-toggleable__control sk-hidden--visually\" id=\"sk-estimator-id-1\" type=\"checkbox\" checked><label for=\"sk-estimator-id-1\" class=\"sk-toggleable__label sk-toggleable__label-arrow\">DecisionTreeClassifier</label><div class=\"sk-toggleable__content\"><pre>DecisionTreeClassifier()</pre></div></div></div></div></div>"
            ]
          },
          "metadata": {},
          "execution_count": 44
        }
      ],
      "source": [
        "from sklearn.tree import DecisionTreeClassifier\n",
        "dt_clf=DecisionTreeClassifier()\n",
        "dt_clf.fit(X_train,y_train)"
      ]
    },
    {
      "cell_type": "code",
      "execution_count": 45,
      "metadata": {
        "id": "mFMktARqyu1l"
      },
      "outputs": [],
      "source": [
        "y_pred=dt_clf.predict(X_test)"
      ]
    },
    {
      "cell_type": "code",
      "execution_count": 46,
      "metadata": {
        "colab": {
          "base_uri": "https://localhost:8080/"
        },
        "id": "ipcrnNYkyvPJ",
        "outputId": "10d04172-f668-41cc-a201-2e46c71627ce"
      },
      "outputs": [
        {
          "output_type": "stream",
          "name": "stdout",
          "text": [
            "Accuracy =  0.9863985213163499\n",
            "Precision =  0.9864405884238486\n",
            "Recall =  0.9863985213163499\n",
            "F1 Score =  0.9863622857744598\n"
          ]
        }
      ],
      "source": [
        "from sklearn.metrics import accuracy_score, confusion_matrix,precision_score,recall_score,f1_score\n",
        "print('Accuracy = ',accuracy_score(y_test,y_pred))\n",
        "print('Precision = ',precision_score(y_test,y_pred,average='weighted'))\n",
        "print('Recall = ',recall_score(y_test,y_pred,average='weighted'))\n",
        "print('F1 Score = ',f1_score(y_test,y_pred,average='weighted'))"
      ]
    },
    {
      "cell_type": "code",
      "execution_count": 47,
      "metadata": {
        "id": "DosawfKxy4Zk"
      },
      "outputs": [],
      "source": [
        "# Random Forest"
      ]
    },
    {
      "cell_type": "code",
      "execution_count": 48,
      "metadata": {
        "id": "BNKQKse2y_To",
        "colab": {
          "base_uri": "https://localhost:8080/",
          "height": 75
        },
        "outputId": "d18195e4-3f03-44f4-e394-19fd3c4835b8"
      },
      "outputs": [
        {
          "output_type": "execute_result",
          "data": {
            "text/plain": [
              "RandomForestClassifier()"
            ],
            "text/html": [
              "<style>#sk-container-id-2 {color: black;background-color: white;}#sk-container-id-2 pre{padding: 0;}#sk-container-id-2 div.sk-toggleable {background-color: white;}#sk-container-id-2 label.sk-toggleable__label {cursor: pointer;display: block;width: 100%;margin-bottom: 0;padding: 0.3em;box-sizing: border-box;text-align: center;}#sk-container-id-2 label.sk-toggleable__label-arrow:before {content: \"▸\";float: left;margin-right: 0.25em;color: #696969;}#sk-container-id-2 label.sk-toggleable__label-arrow:hover:before {color: black;}#sk-container-id-2 div.sk-estimator:hover label.sk-toggleable__label-arrow:before {color: black;}#sk-container-id-2 div.sk-toggleable__content {max-height: 0;max-width: 0;overflow: hidden;text-align: left;background-color: #f0f8ff;}#sk-container-id-2 div.sk-toggleable__content pre {margin: 0.2em;color: black;border-radius: 0.25em;background-color: #f0f8ff;}#sk-container-id-2 input.sk-toggleable__control:checked~div.sk-toggleable__content {max-height: 200px;max-width: 100%;overflow: auto;}#sk-container-id-2 input.sk-toggleable__control:checked~label.sk-toggleable__label-arrow:before {content: \"▾\";}#sk-container-id-2 div.sk-estimator input.sk-toggleable__control:checked~label.sk-toggleable__label {background-color: #d4ebff;}#sk-container-id-2 div.sk-label input.sk-toggleable__control:checked~label.sk-toggleable__label {background-color: #d4ebff;}#sk-container-id-2 input.sk-hidden--visually {border: 0;clip: rect(1px 1px 1px 1px);clip: rect(1px, 1px, 1px, 1px);height: 1px;margin: -1px;overflow: hidden;padding: 0;position: absolute;width: 1px;}#sk-container-id-2 div.sk-estimator {font-family: monospace;background-color: #f0f8ff;border: 1px dotted black;border-radius: 0.25em;box-sizing: border-box;margin-bottom: 0.5em;}#sk-container-id-2 div.sk-estimator:hover {background-color: #d4ebff;}#sk-container-id-2 div.sk-parallel-item::after {content: \"\";width: 100%;border-bottom: 1px solid gray;flex-grow: 1;}#sk-container-id-2 div.sk-label:hover label.sk-toggleable__label {background-color: #d4ebff;}#sk-container-id-2 div.sk-serial::before {content: \"\";position: absolute;border-left: 1px solid gray;box-sizing: border-box;top: 0;bottom: 0;left: 50%;z-index: 0;}#sk-container-id-2 div.sk-serial {display: flex;flex-direction: column;align-items: center;background-color: white;padding-right: 0.2em;padding-left: 0.2em;position: relative;}#sk-container-id-2 div.sk-item {position: relative;z-index: 1;}#sk-container-id-2 div.sk-parallel {display: flex;align-items: stretch;justify-content: center;background-color: white;position: relative;}#sk-container-id-2 div.sk-item::before, #sk-container-id-2 div.sk-parallel-item::before {content: \"\";position: absolute;border-left: 1px solid gray;box-sizing: border-box;top: 0;bottom: 0;left: 50%;z-index: -1;}#sk-container-id-2 div.sk-parallel-item {display: flex;flex-direction: column;z-index: 1;position: relative;background-color: white;}#sk-container-id-2 div.sk-parallel-item:first-child::after {align-self: flex-end;width: 50%;}#sk-container-id-2 div.sk-parallel-item:last-child::after {align-self: flex-start;width: 50%;}#sk-container-id-2 div.sk-parallel-item:only-child::after {width: 0;}#sk-container-id-2 div.sk-dashed-wrapped {border: 1px dashed gray;margin: 0 0.4em 0.5em 0.4em;box-sizing: border-box;padding-bottom: 0.4em;background-color: white;}#sk-container-id-2 div.sk-label label {font-family: monospace;font-weight: bold;display: inline-block;line-height: 1.2em;}#sk-container-id-2 div.sk-label-container {text-align: center;}#sk-container-id-2 div.sk-container {/* jupyter's `normalize.less` sets `[hidden] { display: none; }` but bootstrap.min.css set `[hidden] { display: none !important; }` so we also need the `!important` here to be able to override the default hidden behavior on the sphinx rendered scikit-learn.org. See: https://github.com/scikit-learn/scikit-learn/issues/21755 */display: inline-block !important;position: relative;}#sk-container-id-2 div.sk-text-repr-fallback {display: none;}</style><div id=\"sk-container-id-2\" class=\"sk-top-container\"><div class=\"sk-text-repr-fallback\"><pre>RandomForestClassifier()</pre><b>In a Jupyter environment, please rerun this cell to show the HTML representation or trust the notebook. <br />On GitHub, the HTML representation is unable to render, please try loading this page with nbviewer.org.</b></div><div class=\"sk-container\" hidden><div class=\"sk-item\"><div class=\"sk-estimator sk-toggleable\"><input class=\"sk-toggleable__control sk-hidden--visually\" id=\"sk-estimator-id-2\" type=\"checkbox\" checked><label for=\"sk-estimator-id-2\" class=\"sk-toggleable__label sk-toggleable__label-arrow\">RandomForestClassifier</label><div class=\"sk-toggleable__content\"><pre>RandomForestClassifier()</pre></div></div></div></div></div>"
            ]
          },
          "metadata": {},
          "execution_count": 48
        }
      ],
      "source": [
        "from sklearn.ensemble import RandomForestClassifier\n",
        "rf_clf=RandomForestClassifier()\n",
        "rf_clf.fit(X_train,y_train)"
      ]
    },
    {
      "cell_type": "code",
      "execution_count": 49,
      "metadata": {
        "id": "Pa9Ab4uRy_ta"
      },
      "outputs": [],
      "source": [
        "y_pred=rf_clf.predict(X_test)"
      ]
    },
    {
      "cell_type": "code",
      "execution_count": 50,
      "metadata": {
        "id": "0DxbyzWBzEiE",
        "colab": {
          "base_uri": "https://localhost:8080/"
        },
        "outputId": "4768a3c2-b9c0-4dc6-c8ab-bfdc8d5840e1"
      },
      "outputs": [
        {
          "output_type": "stream",
          "name": "stdout",
          "text": [
            "Accuracy =  0.9857455699762928\n",
            "Precision =  0.9857855016126708\n",
            "Recall =  0.9857455699762928\n",
            "F1 Score =  0.9857073408640687\n"
          ]
        }
      ],
      "source": [
        "print('Accuracy = ',accuracy_score(y_test,y_pred))\n",
        "print('Precision = ',precision_score(y_test,y_pred,average='weighted'))\n",
        "print('Recall = ',recall_score(y_test,y_pred,average='weighted'))\n",
        "print('F1 Score = ',f1_score(y_test,y_pred,average='weighted'))"
      ]
    },
    {
      "cell_type": "code",
      "execution_count": 51,
      "metadata": {
        "id": "phZlaT0LzLml"
      },
      "outputs": [],
      "source": [
        "# GBM"
      ]
    },
    {
      "cell_type": "code",
      "execution_count": 52,
      "metadata": {
        "id": "ZYQZPeJnzRVf"
      },
      "outputs": [],
      "source": [
        "from sklearn.ensemble import GradientBoostingClassifier\n",
        "\n",
        "\n",
        "# Initialize the Gradient Boosting classifier\n",
        "gbm_clf = GradientBoostingClassifier(n_estimators=100, learning_rate=0.1, random_state=42)\n",
        "\n",
        "# Train the classifier\n",
        "gbm_clf.fit(X_train, y_train)\n",
        "\n",
        "# Make predictions on the test data\n",
        "y_pred = gbm_clf.predict(X_test)"
      ]
    },
    {
      "cell_type": "code",
      "execution_count": 53,
      "metadata": {
        "id": "cmWmGiEpziwR",
        "colab": {
          "base_uri": "https://localhost:8080/"
        },
        "outputId": "e529b149-d4f7-40a0-9760-406c336729ee"
      },
      "outputs": [
        {
          "output_type": "stream",
          "name": "stdout",
          "text": [
            "Accuracy =  0.80629445091815\n",
            "Precision =  0.8162833796216451\n",
            "Recall =  0.80629445091815\n",
            "F1 Score =  0.8052327338130272\n"
          ]
        }
      ],
      "source": [
        "print('Accuracy = ',accuracy_score(y_test,y_pred))\n",
        "print('Precision = ',precision_score(y_test,y_pred,average='weighted'))\n",
        "print('Recall = ',recall_score(y_test,y_pred,average='weighted'))\n",
        "print('F1 Score = ',f1_score(y_test,y_pred,average='weighted'))"
      ]
    },
    {
      "cell_type": "code",
      "execution_count": 54,
      "metadata": {
        "id": "f4_F5dWU9K_L"
      },
      "outputs": [],
      "source": [
        "#Naive bayes"
      ]
    },
    {
      "cell_type": "code",
      "execution_count": 55,
      "metadata": {
        "id": "r4Om0KVv9bQ8",
        "colab": {
          "base_uri": "https://localhost:8080/"
        },
        "outputId": "8efdc235-f7c6-4138-93fb-ae988f99b3de"
      },
      "outputs": [
        {
          "output_type": "stream",
          "name": "stdout",
          "text": [
            "Accuracy =  0.34171454976493754\n",
            "Precision =  0.26595736489947286\n",
            "Recall =  0.34171454976493754\n",
            "F1 Score =  0.2821504728244714\n"
          ]
        },
        {
          "output_type": "stream",
          "name": "stderr",
          "text": [
            "/usr/local/lib/python3.10/dist-packages/sklearn/metrics/_classification.py:1344: UndefinedMetricWarning: Precision is ill-defined and being set to 0.0 in labels with no predicted samples. Use `zero_division` parameter to control this behavior.\n",
            "  _warn_prf(average, modifier, msg_start, len(result))\n"
          ]
        }
      ],
      "source": [
        "from sklearn.naive_bayes import GaussianNB\n",
        "\n",
        "# Create a Gaussian Naive Bayes classifier\n",
        "nb_clf = GaussianNB()\n",
        "\n",
        "# Fit the Naive Bayes classifier to the training data\n",
        "nb_clf.fit(X_train, y_train)\n",
        "\n",
        "# Predict using the Naive Bayes classifier\n",
        "y_pred = nb_clf.predict(X_test)\n",
        "print('Accuracy = ',accuracy_score(y_test,y_pred))\n",
        "print('Precision = ',precision_score(y_test,y_pred,average='weighted'))\n",
        "print('Recall = ',recall_score(y_test,y_pred,average='weighted'))\n",
        "print('F1 Score = ',f1_score(y_test,y_pred,average='weighted'))"
      ]
    },
    {
      "cell_type": "code",
      "execution_count": 56,
      "metadata": {
        "id": "hTjQOsa8mXfv"
      },
      "outputs": [],
      "source": [
        "#DECSION TREE IS THE BEST MODEL ON THE BASIS OF METRICS OTHER THAN ACCURACY"
      ]
    },
    {
      "cell_type": "markdown",
      "metadata": {
        "id": "XMRU4l7BmX3b"
      },
      "source": [
        "### ***CROSS VALIDATION ***"
      ]
    },
    {
      "cell_type": "code",
      "execution_count": 57,
      "metadata": {
        "id": "OUIdzsih9mPr",
        "colab": {
          "base_uri": "https://localhost:8080/"
        },
        "outputId": "697f0d36-a822-4f0f-ba92-9f09f3b68ba8"
      },
      "outputs": [
        {
          "output_type": "stream",
          "name": "stdout",
          "text": [
            "Mean Precision: 0.9863593616546146\n",
            "Mean Recall: 0.986323077582729\n",
            "Mean F1 Score: 0.9863195530972095\n"
          ]
        }
      ],
      "source": [
        "from sklearn.model_selection import StratifiedKFold\n",
        "# Initialize the StratifiedKFold object\n",
        "stratified_kfold = StratifiedKFold(n_splits=5, shuffle=True, random_state=42)\n",
        "\n",
        "# Lists to store precision, recall, and F1 scores for each fold\n",
        "precision_scores_dt = []\n",
        "recall_scores_dt = []\n",
        "f1_scores_dt = []\n",
        "\n",
        "# Perform cross-validation\n",
        "for train_index, test_index in stratified_kfold.split(X, y):\n",
        "    X_train_cv, X_test_cv = X.iloc[train_index], X.iloc[test_index]\n",
        "    y_train_cv, y_test_cv = y.iloc[train_index], y.iloc[test_index]\n",
        "\n",
        "    # Initialize the Decision Tree classifier\n",
        "    dt_classifier = DecisionTreeClassifier(random_state=42)\n",
        "\n",
        "    # Fit the classifier on the training data\n",
        "    dt_classifier.fit(X_train_cv, y_train_cv)\n",
        "\n",
        "    # Predict on the test data\n",
        "    y_pred_cv = dt_classifier.predict(X_test_cv)\n",
        "\n",
        "    # Calculate precision, recall, and F1 scores\n",
        "    precision = precision_score(y_test_cv, y_pred_cv,average='weighted')\n",
        "    recall = recall_score(y_test_cv, y_pred_cv,average='weighted')\n",
        "    f1 = f1_score(y_test_cv, y_pred_cv,average='weighted')\n",
        "\n",
        "    precision_scores_dt.append(precision)\n",
        "    recall_scores_dt.append(recall)\n",
        "    f1_scores_dt.append(f1)\n",
        "\n",
        "# Calculate and print the mean precision, recall, and F1 scores across all folds\n",
        "mean_precision = sum(precision_scores_dt) / len(precision_scores_dt)\n",
        "mean_recall = sum(recall_scores_dt) / len(recall_scores_dt)\n",
        "mean_f1 = sum(f1_scores_dt) / len(f1_scores_dt)\n",
        "\n",
        "print(\"Mean Precision:\", mean_precision)\n",
        "print(\"Mean Recall:\", mean_recall)\n",
        "print(\"Mean F1 Score:\", mean_f1)"
      ]
    },
    {
      "cell_type": "markdown",
      "metadata": {
        "id": "xDh-CsNOnIFD"
      },
      "source": [
        "HYPERPARAMETER TUNING"
      ]
    },
    {
      "cell_type": "code",
      "execution_count": 58,
      "metadata": {
        "id": "fTII8rHs9pKH",
        "colab": {
          "base_uri": "https://localhost:8080/"
        },
        "outputId": "7d3f0ff6-b570-4583-8af0-22dbccd97ee7"
      },
      "outputs": [
        {
          "output_type": "stream",
          "name": "stderr",
          "text": [
            "/usr/local/lib/python3.10/dist-packages/sklearn/tree/_classes.py:269: FutureWarning: `max_features='auto'` has been deprecated in 1.1 and will be removed in 1.3. To keep the past behaviour, explicitly set `max_features='sqrt'`.\n",
            "  warnings.warn(\n"
          ]
        },
        {
          "output_type": "stream",
          "name": "stdout",
          "text": [
            "Best Parameters for Decision Tree (F1 Weighted Score): {'splitter': 'best', 'random_state': 42, 'min_samples_split': 5, 'min_samples_leaf': 1, 'max_features': 'auto', 'max_depth': 40, 'criterion': 'gini'}\n"
          ]
        }
      ],
      "source": [
        "from sklearn.model_selection import RandomizedSearchCV\n",
        "\n",
        "# Define the hyperparameter grid for Decision Tree\n",
        "dt_params = {\n",
        "    'criterion': ['gini', 'entropy'],\n",
        "    'splitter': ['best', 'random'],\n",
        "    'max_depth': [None, 10, 20, 30, 40, 50],\n",
        "    'min_samples_split': [2, 5, 10],\n",
        "    'min_samples_leaf': [1, 2, 4],\n",
        "    'max_features': [None, 'sqrt', 'log2','auto'],\n",
        "    'random_state': [None, 42],\n",
        "}\n",
        "\n",
        "# Create a Decision Tree classifier\n",
        "dt_model = DecisionTreeClassifier()\n",
        "\n",
        "# Initialize RandomizedSearchCV\n",
        "cv_model_dt = RandomizedSearchCV(estimator=dt_model, param_distributions=dt_params,\n",
        "                                 scoring='f1_weighted', n_jobs=-1, return_train_score=True,\n",
        "                                 cv=StratifiedKFold(n_splits=5, shuffle=True, random_state=42))\n",
        "\n",
        "# Fit the randomized search to your training data\n",
        "cv_model_dt.fit(X_train_cv, y_train_cv)\n",
        "\n",
        "# Get the best hyperparameters for Decision Tree\n",
        "best_params_dt = cv_model_dt.best_params_\n",
        "\n",
        "# Print the best parameters\n",
        "print(\"Best Parameters for Decision Tree (F1 Weighted Score):\", best_params_dt)\n"
      ]
    },
    {
      "cell_type": "code",
      "execution_count": 59,
      "metadata": {
        "id": "sq25jECb90_4",
        "colab": {
          "base_uri": "https://localhost:8080/"
        },
        "outputId": "2ef77f3b-d718-4b97-84d2-9d7d3a7ba911"
      },
      "outputs": [
        {
          "output_type": "stream",
          "name": "stdout",
          "text": [
            "Precision (Decision Tree): 0.9856804704759909\n",
            "Recall (Decision Tree): 0.9856473749638986\n",
            "F1 Score (Decision Tree): 0.9856498762024832\n"
          ]
        }
      ],
      "source": [
        "# Use the best hyperparameters obtained from RandomizedSearchCV\n",
        "best_params_dt = {\n",
        "    'splitter': 'random',\n",
        "    'random_state': None,\n",
        "    'min_samples_split': 10,\n",
        "    'min_samples_leaf': 1,\n",
        "    'max_features': None,\n",
        "    'max_depth': 50,\n",
        "    'criterion': 'entropy'\n",
        "}\n",
        "\n",
        "# Create a new Decision Tree classifier with the best hyperparameters\n",
        "best_dt_model = DecisionTreeClassifier(**best_params_dt)\n",
        "\n",
        "# Fit the model to your training data\n",
        "best_dt_model.fit(X_train_cv, y_train_cv)\n",
        "\n",
        "# Predict on the test data\n",
        "y_pred_dt = best_dt_model.predict(X_test_cv)\n",
        "\n",
        "# Calculate precision, recall, and F1-score\n",
        "precision_dt = precision_score(y_test_cv, y_pred_dt, average='weighted')\n",
        "recall_dt = recall_score(y_test_cv, y_pred_dt, average='weighted')\n",
        "f1_dt = f1_score(y_test_cv, y_pred_dt, average='weighted')\n",
        "\n",
        "# Print the evaluation metrics\n",
        "print(\"Precision (Decision Tree):\", precision_dt)\n",
        "print(\"Recall (Decision Tree):\", recall_dt)\n",
        "print(\"F1 Score (Decision Tree):\", f1_dt)\n"
      ]
    }
  ],
  "metadata": {
    "accelerator": "GPU",
    "colab": {
      "provenance": [],
      "gpuType": "T4"
    },
    "kernelspec": {
      "display_name": "Python 3",
      "name": "python3"
    },
    "language_info": {
      "name": "python"
    }
  },
  "nbformat": 4,
  "nbformat_minor": 0
}